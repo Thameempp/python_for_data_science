{
 "cells": [
  {
   "cell_type": "code",
   "execution_count": null,
   "id": "21a4bdfe",
   "metadata": {},
   "outputs": [],
   "source": [
    "user = int(input(\"Enter a number : \"))\n",
    "for i in range(0,user,2):\n",
    "    print(i)"
   ]
  }
 ],
 "metadata": {
  "language_info": {
   "name": "python"
  }
 },
 "nbformat": 4,
 "nbformat_minor": 5
}
