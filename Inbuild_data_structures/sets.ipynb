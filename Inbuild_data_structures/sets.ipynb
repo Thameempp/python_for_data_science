{
 "cells": [
  {
   "cell_type": "code",
   "execution_count": null,
   "id": "1cf7a871",
   "metadata": {},
   "outputs": [],
   "source": [
    "my_set ={1,2,3,4,5,6,}\n",
    "print(type(my_set))\n",
    "print(my_set)"
   ]
  },
  {
   "cell_type": "code",
   "execution_count": null,
   "id": "888ed89e",
   "metadata": {},
   "outputs": [],
   "source": [
    "empty_set=set([1,2,3])\n",
    "print(type(empty_set))\n",
    "print(empty_set)"
   ]
  },
  {
   "cell_type": "code",
   "execution_count": null,
   "id": "a6f2a4c2",
   "metadata": {},
   "outputs": [],
   "source": [
    "## sets stores collection of unique elements (do not allow dublicates ). & unordered (do not follow specific order)\n",
    "new_set={1,2,3,4,3,4,5,6,6,7,1,2,}\n",
    "print(new_set)"
   ]
  },
  {
   "cell_type": "code",
   "execution_count": null,
   "id": "61061509",
   "metadata": {},
   "outputs": [],
   "source": [
    "# Basic set operations \n",
    "setA={1,2,3,4,5}\n",
    "setB={6,7,8,9,10}\n",
    " "
   ]
  },
  {
   "cell_type": "code",
   "execution_count": null,
   "id": "49d221bd",
   "metadata": {},
   "outputs": [],
   "source": [
    "# Adding and Removing elements\n",
    "setA={1,2,3,4,5}\n",
    "setA.add(11)\n",
    "print(setA)\n",
    "\n",
    "setA={1,2,3,4,5}\n",
    "setA.remove(5)\n",
    "print(setA)\n",
    "\n",
    "setA={1,2,3,4,5}\n",
    "setA.discard(11) # discard : able to remove an element if it is present \n",
    "print(setA)\n",
    "\n",
    "setA={1,2,3,4,5}\n",
    "setA.discard(12)\n",
    "print(setA)"
   ]
  },
  {
   "cell_type": "code",
   "execution_count": null,
   "id": "235eca2c",
   "metadata": {},
   "outputs": [],
   "source": [
    "# pop method\n",
    "setA.pop()\n",
    "print(setA)"
   ]
  },
  {
   "cell_type": "code",
   "execution_count": null,
   "id": "3062da1c",
   "metadata": {},
   "outputs": [],
   "source": [
    "# clear all the elements\n",
    "setA.clear()\n",
    "print(setA)"
   ]
  },
  {
   "cell_type": "code",
   "execution_count": null,
   "id": "721f52f7",
   "metadata": {},
   "outputs": [],
   "source": [
    "# Set membership test. : testing a number that present in a set or not   (True when it is present)\n",
    "setA={1,2,3,4,5}\n",
    "print(3 in setA )\n",
    "print(12 in setA)\n"
   ]
  },
  {
   "cell_type": "code",
   "execution_count": null,
   "id": "a4ff46ff",
   "metadata": {},
   "outputs": [],
   "source": [
    "# Mathematical operation  \n",
    "setA={1,2,3,4,5}\n",
    "setB={6,7,8,9,10}\n",
    "\n",
    "# 1.union \n",
    "# 2.intersection \n",
    "# 3.intersection_update  (take intersection first then update to main set)\n",
    "# 4.Difference (removing common elements)  and  difference_update\n",
    "#    set1.difference(set2).  and    set2.difference(set1)\n",
    "# 6.Symmetric difference of sets\n",
    "# 7.set methods :   subset , superset\n",
    "# 8.removing dublicate elements from a list using set\n",
    "# 9.counting unique words in text "
   ]
  },
  {
   "cell_type": "code",
   "execution_count": null,
   "id": "7fe4abac",
   "metadata": {},
   "outputs": [],
   "source": [
    "# union \n",
    "setA.union(setB)"
   ]
  },
  {
   "cell_type": "code",
   "execution_count": null,
   "id": "925da001",
   "metadata": {},
   "outputs": [],
   "source": [
    "# intersection\n",
    "setB.union(setA)"
   ]
  },
  {
   "cell_type": "code",
   "execution_count": null,
   "id": "97addcc0",
   "metadata": {},
   "outputs": [],
   "source": [
    "setA1={1,2,3,4,5}\n",
    "setB1={4,5,6,7,8,9,10}\n",
    "\n",
    "setA1.intersection_update(setB1) # taking common , updating the set \n",
    "print(setA1)"
   ]
  },
  {
   "cell_type": "code",
   "execution_count": null,
   "id": "6650b422",
   "metadata": {},
   "outputs": [],
   "source": [
    "print(setA1) # updated setA1"
   ]
  },
  {
   "cell_type": "code",
   "execution_count": null,
   "id": "6ef8f176",
   "metadata": {},
   "outputs": [],
   "source": [
    "# Difference of 2 sets    ; elements in setA not in setB\n",
    "\n",
    "# difference = Use when you want to find elements that are present in one set exclusively and not in another.\n",
    "# For example, finding customers who bought product A but not product B.\n",
    "\n",
    "# difference_AB =  set_A - set_B\n",
    " \n",
    "setA={1,2,3,4,5,6,7}\n",
    "setB={2,6,7,8,9,10}\n",
    "setA.difference(setB) #. elements in setA not in setB"
   ]
  },
  {
   "cell_type": "code",
   "execution_count": null,
   "id": "ceaf61f6",
   "metadata": {},
   "outputs": [],
   "source": [
    "setA.difference_update(setB) # updated"
   ]
  },
  {
   "cell_type": "code",
   "execution_count": null,
   "id": "8ef0e597",
   "metadata": {},
   "outputs": [],
   "source": [
    "print(setA) # updated setA\n",
    "print(setB) # setB not updated that means setA only updates : \" setA \".difference(setB)"
   ]
  },
  {
   "cell_type": "code",
   "execution_count": null,
   "id": "2807f8de",
   "metadata": {},
   "outputs": [],
   "source": [
    "# symmetric difference of sets \n",
    "\n",
    "# Symmetric Difference: Use when you want to find elements that are unique to either set effectively -\n",
    "#     excluding any common elements. \n",
    "\n",
    "# For example, finding students who are enrolled in either a Math class or a Physics class, but not both.\n",
    "\n",
    "# setA ^ setB.     or    setA.symmetric_difference(setB)\n",
    "\n",
    "\n",
    "setA={1,2,3,4,5,6,7}\n",
    "setB={4,5,6,7,8,9,10}\n",
    "\n",
    "setA.symmetric_difference(setB) # removes common elements"
   ]
  },
  {
   "cell_type": "code",
   "execution_count": null,
   "id": "40b56e33",
   "metadata": {},
   "outputs": [],
   "source": [
    "# subset and superset\n",
    "set1 ={1,2,3,4,5,6}\n",
    "set2 ={2,3,4}\n",
    "\n",
    "print(set2.issubset(set1)) \n",
    "print(set1.issubset(set2))\n",
    "print(set1.issuperset(set2))\n",
    "print(set2.issuperset(set1))"
   ]
  },
  {
   "cell_type": "code",
   "execution_count": null,
   "id": "1ecc4a7b",
   "metadata": {},
   "outputs": [],
   "source": [
    "# list to set \n",
    "lst=[1,2,3,3,4,5,6,6,7]\n",
    "set(lst)"
   ]
  },
  {
   "cell_type": "code",
   "execution_count": null,
   "id": "d175e200",
   "metadata": {},
   "outputs": [],
   "source": [
    "# counting unique words in text \n",
    "text = \" counting unique words in text \"\n",
    "words =text.split()\n",
    "unique_words=set(words)\n",
    "print(unique_words)\n",
    "print(len(unique_words))"
   ]
  }
 ],
 "metadata": {
  "kernelspec": {
   "display_name": "base",
   "language": "python",
   "name": "python3"
  },
  "language_info": {
   "codemirror_mode": {
    "name": "ipython",
    "version": 3
   },
   "file_extension": ".py",
   "mimetype": "text/x-python",
   "name": "python",
   "nbconvert_exporter": "python",
   "pygments_lexer": "ipython3",
   "version": "3.13.5"
  }
 },
 "nbformat": 4,
 "nbformat_minor": 5
}
