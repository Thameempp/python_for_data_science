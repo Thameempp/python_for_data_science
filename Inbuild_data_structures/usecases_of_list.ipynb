{
 "cells": [
  {
   "cell_type": "code",
   "execution_count": 2,
   "id": "29aea577",
   "metadata": {},
   "outputs": [
    {
     "name": "stdout",
     "output_type": "stream",
     "text": [
      "Don't forget to pay utilities\n",
      "To do list remaining\n",
      "- Buy chocolate\n",
      "- pay bills\n",
      "- complete python basics\n",
      "- python basic assignments \n"
     ]
    }
   ],
   "source": [
    "# To do list\n",
    "\n",
    "to_do_list =[\"Buy chocolate\",\"clean the house\",\"pay bills\"]\n",
    "\n",
    "# Adding to task \n",
    "to_do_list.append(\"complete python basics\")\n",
    "to_do_list.append(\"python basic assignments \")\n",
    "\n",
    "# Remove from task\n",
    "\n",
    "to_do_list.remove(\"clean the house\")\n",
    "\n",
    "# checking if a task is in the list \n",
    "\n",
    "if \"pay bills\" in to_do_list:\n",
    "    print(\"Don't forget to pay utilities\")\n",
    "\n",
    "print(\"To do list remaining\")\n",
    "for task in to_do_list:\n",
    "    print(f\"- {task}\")"
   ]
  },
  {
   "cell_type": "code",
   "execution_count": 3,
   "id": "bf0292ba",
   "metadata": {},
   "outputs": [
    {
     "name": "stdout",
     "output_type": "stream",
     "text": [
      "To do list remaining\n",
      "- pay bills\n",
      "- complete python basics\n",
      "- python basic assignments \n"
     ]
    }
   ],
   "source": [
    "to_do_list.remove(\"Buy chocolate\")\n",
    "\n",
    "print(\"To do list remaining\")\n",
    "for task in to_do_list:\n",
    "    print(f\"- {task}\")"
   ]
  },
  {
   "cell_type": "code",
   "execution_count": 8,
   "id": "bc9ae73e",
   "metadata": {},
   "outputs": [
    {
     "name": "stdout",
     "output_type": "stream",
     "text": [
      "[79, 81, 88, 91, 93, 95, 96]\n",
      "average_grades: 89.00 \n",
      "highest grades :  96\n",
      "lowest grade :  79\n"
     ]
    }
   ],
   "source": [
    "# Calculating the avg grades \n",
    "\n",
    "grades=[88,91,79,81,95,93]\n",
    "\n",
    "grades.append(96)\n",
    "\n",
    "grades.sort()\n",
    "print(grades)\n",
    "\n",
    "average_grade=sum(grades)/ len(grades)\n",
    "print(f\"average_grades: {average_grade:.2f} \")\n",
    "\n",
    "maximum_grade=max(grades)\n",
    "minimum_grade=min(grades)\n",
    "print(\"highest grades : \",maximum_grade)\n",
    "print(\"lowest grade : \",minimum_grade)\n",
    "      "
   ]
  },
  {
   "cell_type": "code",
   "execution_count": 11,
   "id": "666b095e",
   "metadata": {},
   "outputs": [
    {
     "name": "stdout",
     "output_type": "stream",
     "text": [
      "strawberries are out of stock \n",
      "Inventory List\n",
      "- mango\n",
      "- apple\n",
      "- banana\n",
      "- grapes\n"
     ]
    }
   ],
   "source": [
    "# Managing inventory\n",
    "\n",
    "inventory=[\"mango\",\"apple\",\"banana\",]\n",
    "\n",
    "inventory.append(\"grapes\")\n",
    "\n",
    "item = \"strawberries\"\n",
    "if item in inventory:\n",
    "    print(f\"{item} are in stock \")\n",
    "else:\n",
    "    print(f\"{item} are out of stock \")\n",
    "print(\"Inventory List\")\n",
    "for items in inventory:\n",
    "    print(f\"- {items}\")\n"
   ]
  },
  {
   "cell_type": "code",
   "execution_count": 13,
   "id": "45f57326",
   "metadata": {},
   "outputs": [
    {
     "name": "stdout",
     "output_type": "stream",
     "text": [
      "postive feedback count:2\n",
      "user feedback: \n",
      "- Great service!\n",
      "- very satisfied\n",
      "- could be better\n",
      "- Excellent experience\n",
      "- Not happy with the service\n"
     ]
    }
   ],
   "source": [
    "# collecting user feedback\n",
    "feedback = [\"Great service!\",\"very satisfied\",\"could be better\",\"Excellent experience\"]\n",
    "\n",
    "# Adding new feedback\n",
    "feedback.append(\"Not happy with the service\")\n",
    "feedback_count =sum(1 for comment in feedback if \"great\" in comment.lower() or \"excellent\" in comment.lower())\n",
    "print(f\"postive feedback count:{feedback_count}\")\n",
    "\n",
    "# printing all feedback\n",
    "print(\"user feedback: \")\n",
    "for comment in feedback:\n",
    "    print(f\"- {comment}\")"
   ]
  }
 ],
 "metadata": {
  "kernelspec": {
   "display_name": "base",
   "language": "python",
   "name": "python3"
  },
  "language_info": {
   "codemirror_mode": {
    "name": "ipython",
    "version": 3
   },
   "file_extension": ".py",
   "mimetype": "text/x-python",
   "name": "python",
   "nbconvert_exporter": "python",
   "pygments_lexer": "ipython3",
   "version": "3.13.5"
  }
 },
 "nbformat": 4,
 "nbformat_minor": 5
}
