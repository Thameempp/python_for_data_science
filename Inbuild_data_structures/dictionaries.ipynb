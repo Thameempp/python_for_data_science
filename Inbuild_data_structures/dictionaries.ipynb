{
 "cells": [
  {
   "cell_type": "code",
   "execution_count": 150,
   "id": "4ed909cb",
   "metadata": {},
   "outputs": [],
   "source": [
    "## Dictionaries\n",
    "# Dictionaries are - Mutable , so we can add or delete or update elements from dict\n",
    "\n",
    "personal={\n",
    "    \"name\":\"Thameem\" ,\n",
    "    \"age\":19 ,\n",
    "    \"weight\": 43 ,\n",
    "}\n",
    "\n",
    "student = dict(name=\"Thameem\",grade=\"A\",rank=12)\n"
   ]
  },
  {
   "cell_type": "code",
   "execution_count": 151,
   "id": "e5e11c25",
   "metadata": {},
   "outputs": [
    {
     "name": "stdout",
     "output_type": "stream",
     "text": [
      "Thameem\n",
      "19\n",
      "43\n",
      "Thameem\n",
      "Not available\n"
     ]
    }
   ],
   "source": [
    "# Accessing\n",
    "print(personal[\"name\"])\n",
    "print(personal[\"age\"])\n",
    "print(personal[\"weight\"])\n",
    "\n",
    "# using get() method \n",
    "\n",
    "print(student.get(\"name\"))\n",
    "print(student.get(\"last_name\", \"Not available\")) # giving output when accessing element not present in dict "
   ]
  },
  {
   "cell_type": "code",
   "execution_count": 152,
   "id": "e6955088",
   "metadata": {},
   "outputs": [
    {
     "data": {
      "text/plain": [
       "{}"
      ]
     },
     "execution_count": 152,
     "metadata": {},
     "output_type": "execute_result"
    }
   ],
   "source": [
    "empty_dict=dict()\n",
    "empty_dict"
   ]
  },
  {
   "cell_type": "code",
   "execution_count": 153,
   "id": "ca9935af",
   "metadata": {},
   "outputs": [
    {
     "name": "stdout",
     "output_type": "stream",
     "text": [
      "3\n"
     ]
    }
   ],
   "source": [
    "# Length of a dict : number of keys value pairs\n",
    "print(len(student))"
   ]
  },
  {
   "cell_type": "code",
   "execution_count": 154,
   "id": "6259b54e",
   "metadata": {},
   "outputs": [
    {
     "name": "stdout",
     "output_type": "stream",
     "text": [
      "Thameem\n"
     ]
    }
   ],
   "source": [
    "personal_details = dict(name= \"Thameem\",age=19,weight=43)\n",
    "print(personal_details.get(\"name\"))"
   ]
  },
  {
   "cell_type": "code",
   "execution_count": 155,
   "id": "5fe2d7c6",
   "metadata": {},
   "outputs": [
    {
     "name": "stdout",
     "output_type": "stream",
     "text": [
      "{'name': 'john', 'age': 23, 'college_dropout': True, 'height': 1.6}\n"
     ]
    }
   ],
   "source": [
    "# Modifying dictionaries\n",
    "\n",
    "Data =dict(name=\"john\",age=23,college_dropout=True,height=1.6)\n",
    "print(Data)"
   ]
  },
  {
   "cell_type": "code",
   "execution_count": 156,
   "id": "ff28198c",
   "metadata": {},
   "outputs": [
    {
     "name": "stdout",
     "output_type": "stream",
     "text": [
      "nick\n",
      "25\n",
      "{'name': 'nick', 'age': 25, 'college_dropout': True, 'height': 1.6}\n"
     ]
    }
   ],
   "source": [
    "Data[\"name\"]=\"nick\"\n",
    "print(Data[\"name\"])\n",
    "Data[\"age\"]=25\n",
    "print(Data[\"age\"])\n",
    "print(Data)\n",
    "del Data[\"height\"]"
   ]
  },
  {
   "cell_type": "code",
   "execution_count": 157,
   "id": "488bbd4a",
   "metadata": {},
   "outputs": [
    {
     "name": "stdout",
     "output_type": "stream",
     "text": [
      "{'name': 'nick', 'age': 25, 'college_dropout': True}\n"
     ]
    }
   ],
   "source": [
    "print(Data) # height removed"
   ]
  },
  {
   "cell_type": "code",
   "execution_count": 158,
   "id": "64898619",
   "metadata": {},
   "outputs": [
    {
     "name": "stdout",
     "output_type": "stream",
     "text": [
      "{'name': 'Thameem', 'grade': 'A', 'rank': 12}\n",
      "dict_keys(['name', 'grade', 'rank'])\n",
      "dict_values(['Thameem', 'A', 12])\n",
      "dict_items([('name', 'Thameem'), ('grade', 'A'), ('rank', 12)])\n"
     ]
    }
   ],
   "source": [
    "# Dictionary methods \n",
    "\n",
    "print(student)\n",
    "key=student.keys()\n",
    "print(key)\n",
    "\n",
    "valuess=student.values()\n",
    "print(valuess)\n",
    "\n",
    "items=student.items()\n",
    "print(items)\n"
   ]
  },
  {
   "cell_type": "code",
   "execution_count": 159,
   "id": "cbeed9fb",
   "metadata": {},
   "outputs": [
    {
     "name": "stdout",
     "output_type": "stream",
     "text": [
      "{'name': 'Thameem', 'grade': 'A', 'rank': 12}\n"
     ]
    }
   ],
   "source": [
    "# copy of dictionaries\n",
    "\n",
    "student_copy =student\n",
    "print(student_copy)"
   ]
  },
  {
   "cell_type": "code",
   "execution_count": 160,
   "id": "583ba620",
   "metadata": {},
   "outputs": [],
   "source": [
    "student[\"name\"]=\"Muhammed Thameem Pp\""
   ]
  },
  {
   "cell_type": "code",
   "execution_count": 161,
   "id": "f374feb2",
   "metadata": {},
   "outputs": [
    {
     "name": "stdout",
     "output_type": "stream",
     "text": [
      "{'name': 'Muhammed Thameem Pp', 'grade': 'A', 'rank': 12}\n"
     ]
    }
   ],
   "source": [
    "print(student_copy)"
   ]
  },
  {
   "cell_type": "code",
   "execution_count": 162,
   "id": "8def08ac",
   "metadata": {},
   "outputs": [
    {
     "name": "stdout",
     "output_type": "stream",
     "text": [
      "{'name': 'Muhammed Thameem Pp', 'grade': 'A', 'rank': 12}\n"
     ]
    }
   ],
   "source": [
    "# shallow copy : Provides a different memory location\n",
    "student_copy1=student.copy()\n",
    "print(student_copy1)"
   ]
  },
  {
   "cell_type": "code",
   "execution_count": 163,
   "id": "6e8e852f",
   "metadata": {},
   "outputs": [],
   "source": [
    "student[\"name\"] =\"Thameempp\""
   ]
  },
  {
   "cell_type": "code",
   "execution_count": 164,
   "id": "4a94b6df",
   "metadata": {},
   "outputs": [
    {
     "name": "stdout",
     "output_type": "stream",
     "text": [
      "{'name': 'Thameempp', 'grade': 'A', 'rank': 12}\n",
      "{'name': 'Muhammed Thameem Pp', 'grade': 'A', 'rank': 12}\n"
     ]
    }
   ],
   "source": [
    "print(student)\n",
    "print(student_copy1)"
   ]
  },
  {
   "cell_type": "code",
   "execution_count": 165,
   "id": "aaf51ab3",
   "metadata": {},
   "outputs": [
    {
     "name": "stdout",
     "output_type": "stream",
     "text": [
      "name\n",
      "grade\n",
      "rank\n"
     ]
    }
   ],
   "source": [
    "# Iterating over dictionaries\n",
    "# over keys\n",
    "for keys in student.keys():\n",
    "    print(keys)"
   ]
  },
  {
   "cell_type": "code",
   "execution_count": 166,
   "id": "9a208f39",
   "metadata": {},
   "outputs": [
    {
     "name": "stdout",
     "output_type": "stream",
     "text": [
      "Thameempp\n",
      "A\n",
      "12\n"
     ]
    }
   ],
   "source": [
    "# over values\n",
    "for values in student.values():\n",
    "    print(values)"
   ]
  },
  {
   "cell_type": "code",
   "execution_count": 167,
   "id": "613a9d4b",
   "metadata": {},
   "outputs": [
    {
     "name": "stdout",
     "output_type": "stream",
     "text": [
      "('name', 'Thameempp')\n",
      "('grade', 'A')\n",
      "('rank', 12)\n"
     ]
    }
   ],
   "source": [
    "# over items \n",
    "for items in student.items():\n",
    "    print(items)"
   ]
  },
  {
   "cell_type": "code",
   "execution_count": 168,
   "id": "b4d26766",
   "metadata": {},
   "outputs": [
    {
     "name": "stdout",
     "output_type": "stream",
     "text": [
      "name:Thameempp\n",
      "grade:A\n",
      "rank:12\n"
     ]
    }
   ],
   "source": [
    "# Another method \n",
    "for key,values in student.items():\n",
    "    print(f\"{key}:{values}\")"
   ]
  },
  {
   "cell_type": "code",
   "execution_count": 169,
   "id": "25cf1d70",
   "metadata": {},
   "outputs": [
    {
     "name": "stdout",
     "output_type": "stream",
     "text": [
      "{'student1': {'name': 'peter', 'age': 29}, 'student2': {'name': 'nick', 'age': 19}}\n"
     ]
    }
   ],
   "source": [
    "# Nested dictionaries\n",
    "studentzz ={\n",
    "    \"student1\":{\"name\":\"peter\",\"age\":29},\n",
    "    \"student2\":{\"name\":\"nick\",\"age\":19},\n",
    "\n",
    "}\n",
    "print(studentzz)\n"
   ]
  },
  {
   "cell_type": "code",
   "execution_count": 170,
   "id": "167731dc",
   "metadata": {},
   "outputs": [
    {
     "name": "stdout",
     "output_type": "stream",
     "text": [
      "peter\n",
      "nick\n"
     ]
    }
   ],
   "source": [
    "# Accessing nested dictionaries\n",
    "print(studentzz[\"student1\"][\"name\"])\n",
    "print(studentzz[\"student2\"][\"name\"])"
   ]
  },
  {
   "cell_type": "code",
   "execution_count": 171,
   "id": "a5c3e489",
   "metadata": {},
   "outputs": [
    {
     "name": "stdout",
     "output_type": "stream",
     "text": [
      "student1:{'name': 'peter', 'age': 29}\n",
      "name:peter\n",
      "age:29\n",
      "student2:{'name': 'nick', 'age': 19}\n",
      "name:nick\n",
      "age:19\n"
     ]
    }
   ],
   "source": [
    "# iterating over nested dictionaries\n",
    "for students_id,students_info in studentzz.items():\n",
    "    print(f\"{students_id}:{students_info}\")\n",
    "    for key,values in students_info.items():\n",
    "        print(f\"{key}:{values}\")\n"
   ]
  },
  {
   "cell_type": "code",
   "execution_count": 172,
   "id": "3d74305a",
   "metadata": {},
   "outputs": [
    {
     "name": "stdout",
     "output_type": "stream",
     "text": [
      "{0: 0, 1: 1, 2: 4, 3: 9, 4: 16, 5: 25, 6: 36, 7: 49}\n"
     ]
    }
   ],
   "source": [
    "# Dictionary comphrehension\n",
    "\n",
    "squares={x:x**2 for x in range(8)}\n",
    "print(squares)"
   ]
  },
  {
   "cell_type": "code",
   "execution_count": 173,
   "id": "3da1371b",
   "metadata": {},
   "outputs": [
    {
     "name": "stdout",
     "output_type": "stream",
     "text": [
      "{0: 0, 2: 4, 4: 16}\n"
     ]
    }
   ],
   "source": [
    "  # condition dictionary comprehension\n",
    "evens ={x:x**2 for x in range(5) if x%2 ==0}\n",
    "print(evens)\n",
    "\n"
   ]
  },
  {
   "cell_type": "code",
   "execution_count": 174,
   "id": "36e52237",
   "metadata": {},
   "outputs": [
    {
     "name": "stdout",
     "output_type": "stream",
     "text": [
      "{1: 1, 2: 2, 3: 1, 4: 1, 5: 2, 6: 3}\n"
     ]
    }
   ],
   "source": [
    "# Practical Examples\n",
    "\n",
    "# Use dictionary to count the frequency of elements in list\n",
    "numberr=[1,2,2,3,4,5,5,6,6,6]\n",
    "frequency={}\n",
    "\n",
    "for number in numberr:\n",
    "    if number in frequency:\n",
    "          frequency[number]+=1\n",
    "    else:\n",
    "         frequency[number]=1\n",
    "         \n",
    "    \n",
    "print(frequency)\n",
    "          \n",
    "          "
   ]
  },
  {
   "cell_type": "code",
   "execution_count": 175,
   "id": "170931c3",
   "metadata": {},
   "outputs": [
    {
     "name": "stdout",
     "output_type": "stream",
     "text": [
      "{'a': 1, 'b': 6, 'c': 7, 'd': 8}\n"
     ]
    }
   ],
   "source": [
    "# merged dict \n",
    "dict1={\"a\":1,\"b\":2,\"c\":3}\n",
    "dict2={\"b\":6,\"c\":7,\"d\":8}\n",
    "merg_dict={**dict1,**dict2}  # the  ** in **dict1,**dict2 is called key word argument   \n",
    "print(merg_dict)"
   ]
  }
 ],
 "metadata": {
  "kernelspec": {
   "display_name": "base",
   "language": "python",
   "name": "python3"
  },
  "language_info": {
   "codemirror_mode": {
    "name": "ipython",
    "version": 3
   },
   "file_extension": ".py",
   "mimetype": "text/x-python",
   "name": "python",
   "nbconvert_exporter": "python",
   "pygments_lexer": "ipython3",
   "version": "3.13.5"
  }
 },
 "nbformat": 4,
 "nbformat_minor": 5
}
