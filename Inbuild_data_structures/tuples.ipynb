{
 "cells": [
  {
   "cell_type": "code",
   "execution_count": null,
   "id": "07acf39a",
   "metadata": {},
   "outputs": [],
   "source": [
    "## Empty tuple\n",
    "tpl=()\n",
    "print(type(tpl))"
   ]
  },
  {
   "cell_type": "code",
   "execution_count": null,
   "id": "0e9448c4",
   "metadata": {},
   "outputs": [],
   "source": [
    "numbers =tuple([1,2,3,4,5,6,7,8])\n",
    "numbers"
   ]
  },
  {
   "cell_type": "code",
   "execution_count": null,
   "id": "59156894",
   "metadata": {},
   "outputs": [],
   "source": [
    "list((1,2,3,4))"
   ]
  },
  {
   "cell_type": "code",
   "execution_count": null,
   "id": "6c9d2cad",
   "metadata": {},
   "outputs": [],
   "source": [
    "## mixed tuple\n",
    "mix_tuple = (7,\"rock\",3.14,True)\n",
    "print(mix_tuple)"
   ]
  },
  {
   "cell_type": "code",
   "execution_count": null,
   "id": "60f93c86",
   "metadata": {},
   "outputs": [],
   "source": [
    "## Acccessing Tuple Elements\n",
    "numbers "
   ]
  },
  {
   "cell_type": "code",
   "execution_count": null,
   "id": "0cbf91ab",
   "metadata": {},
   "outputs": [],
   "source": [
    "numbers[3]"
   ]
  },
  {
   "cell_type": "code",
   "execution_count": null,
   "id": "694db190",
   "metadata": {},
   "outputs": [],
   "source": [
    "print(numbers[2])\n",
    "print(numbers[-3])"
   ]
  },
  {
   "cell_type": "code",
   "execution_count": null,
   "id": "f19679a4",
   "metadata": {},
   "outputs": [],
   "source": [
    "numbers[::]"
   ]
  },
  {
   "cell_type": "code",
   "execution_count": null,
   "id": "36da4a19",
   "metadata": {},
   "outputs": [],
   "source": [
    "numbers[2:]"
   ]
  },
  {
   "cell_type": "code",
   "execution_count": null,
   "id": "7ec4ceac",
   "metadata": {},
   "outputs": [],
   "source": [
    "numbers[:2]"
   ]
  },
  {
   "cell_type": "code",
   "execution_count": null,
   "id": "df077411",
   "metadata": {},
   "outputs": [],
   "source": [
    "## Tuple operations\n",
    "concatenation_tuple = numbers + mix_tuple\n",
    "print(concatenation_tuple)"
   ]
  },
  {
   "cell_type": "code",
   "execution_count": null,
   "id": "31932dbc",
   "metadata": {},
   "outputs": [],
   "source": [
    "mix_tuple * 2"
   ]
  },
  {
   "cell_type": "code",
   "execution_count": null,
   "id": "e2e47c89",
   "metadata": {},
   "outputs": [],
   "source": [
    "numbers * 3"
   ]
  },
  {
   "cell_type": "code",
   "execution_count": null,
   "id": "c055aefe",
   "metadata": {},
   "outputs": [],
   "source": [
    "# list (mutable) \n",
    "lst =[1,2,3,4]\n",
    "print(lst)"
   ]
  },
  {
   "cell_type": "code",
   "execution_count": null,
   "id": "4c7bcb94",
   "metadata": {},
   "outputs": [],
   "source": [
    "lst[2] = \"three\"\n",
    "print(lst)"
   ]
  },
  {
   "cell_type": "code",
   "execution_count": null,
   "id": "b4364f3c",
   "metadata": {},
   "outputs": [],
   "source": [
    "# Tuple (immutable)\n",
    "numbers"
   ]
  },
  {
   "cell_type": "code",
   "execution_count": null,
   "id": "76b9f7e4",
   "metadata": {},
   "outputs": [],
   "source": [
    "numbers[2]=\"three\"  #output : TypeError: 'tuple' object does not support item assignment"
   ]
  },
  {
   "cell_type": "code",
   "execution_count": null,
   "id": "6cfb65c5",
   "metadata": {},
   "outputs": [],
   "source": [
    "# tuple can be mutable by changing tuple to list then it will be mutable \n",
    "\n",
    "#my_tuple = (1,2,3,4,'a','b')\n",
    "#my_list= list(my_tuple)\n",
    "#print(my_list)"
   ]
  }
 ],
 "metadata": {
  "kernelspec": {
   "display_name": "base",
   "language": "python",
   "name": "python3"
  },
  "language_info": {
   "codemirror_mode": {
    "name": "ipython",
    "version": 3
   },
   "file_extension": ".py",
   "mimetype": "text/x-python",
   "name": "python",
   "nbconvert_exporter": "python",
   "pygments_lexer": "ipython3",
   "version": "3.13.5"
  }
 },
 "nbformat": 4,
 "nbformat_minor": 5
}
