{
 "cells": [
  {
   "cell_type": "code",
   "execution_count": null,
   "id": "4fee3b1e",
   "metadata": {},
   "outputs": [],
   "source": [
    "[num**2 for num in range(10)]"
   ]
  },
  {
   "cell_type": "code",
   "execution_count": null,
   "id": "6f189afe",
   "metadata": {},
   "outputs": [],
   "source": [
    "square = [num**2 for num in range(5)]\n",
    "print(square)"
   ]
  },
  {
   "cell_type": "code",
   "execution_count": null,
   "id": "9226aa09",
   "metadata": {},
   "outputs": [],
   "source": [
    "lst=[]\n",
    "for i in range(10):\n",
    "    if i%2 ==0:\n",
    "        lst.append(i)\n",
    "print()"
   ]
  },
  {
   "cell_type": "code",
   "execution_count": null,
   "id": "56fbf248",
   "metadata": {},
   "outputs": [],
   "source": [
    "[num for num in range(10) if num%2==0]"
   ]
  },
  {
   "cell_type": "code",
   "execution_count": null,
   "id": "af2db5fc",
   "metadata": {},
   "outputs": [],
   "source": [
    "[num for num in range(10) if num%2 !=0]"
   ]
  },
  {
   "cell_type": "code",
   "execution_count": null,
   "id": "32a202c4",
   "metadata": {},
   "outputs": [],
   "source": [
    "## Nested list comprehenstion\n",
    "\n",
    "lst1 =[1,2,3,4]\n",
    "lst2 =['a','b','c']\n",
    " \n",
    "pair =[(i,j) for i in lst1 for j in lst2]\n",
    "print(pair)"
   ]
  },
  {
   "cell_type": "code",
   "execution_count": null,
   "id": "73b29802",
   "metadata": {},
   "outputs": [],
   "source": [
    "## List comprehension with function call\n",
    "lsts = ['world','ready','rock','block', 'macbook','windows']\n",
    "func =[len(lst) for lst in lsts]\n",
    "print(func)"
   ]
  }
 ],
 "metadata": {
  "kernelspec": {
   "display_name": "base",
   "language": "python",
   "name": "python3"
  },
  "language_info": {
   "codemirror_mode": {
    "name": "ipython",
    "version": 3
   },
   "file_extension": ".py",
   "mimetype": "text/x-python",
   "name": "python",
   "nbconvert_exporter": "python",
   "pygments_lexer": "ipython3",
   "version": "3.13.5"
  }
 },
 "nbformat": 4,
 "nbformat_minor": 5
}
