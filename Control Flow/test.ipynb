{
 "cells": [
  {
   "cell_type": "code",
   "execution_count": null,
   "id": "dbe2dd0f",
   "metadata": {},
   "outputs": [],
   "source": [
    "pip install pandas"
   ]
  },
  {
   "cell_type": "code",
   "execution_count": null,
   "id": "5ace2e06",
   "metadata": {},
   "outputs": [],
   "source": [
    "age = 111\n",
    "if age>=22 and age<=29:\n",
    "    print(\" u are a man now \")\n",
    "elif age <=17:\n",
    "    print(\"you are a little kid\")\n",
    "elif age>=30 and age<=100:\n",
    "    print(\"u looks older\")\n",
    "elif age>100:\n",
    "    print(\"are you still alive :) \")\n",
    "else:\n",
    "    print(\"a boy\")"
   ]
  }
 ],
 "metadata": {
  "kernelspec": {
   "display_name": "aceresumer-env",
   "language": "python",
   "name": "python3"
  },
  "language_info": {
   "codemirror_mode": {
    "name": "ipython",
    "version": 3
   },
   "file_extension": ".py",
   "mimetype": "text/x-python",
   "name": "python",
   "nbconvert_exporter": "python",
   "pygments_lexer": "ipython3",
   "version": "3.11.8"
  }
 },
 "nbformat": 4,
 "nbformat_minor": 5
}
