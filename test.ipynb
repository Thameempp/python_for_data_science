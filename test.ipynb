{
 "cells": [
  {
   "cell_type": "code",
   "execution_count": 4,
   "id": "2a6dcc56",
   "metadata": {},
   "outputs": [
    {
     "data": {
      "text/plain": [
       "11"
      ]
     },
     "execution_count": 4,
     "metadata": {},
     "output_type": "execute_result"
    }
   ],
   "source": [
    "def addition(a,b):\n",
    "    return a + b\n",
    "addition(2,9)\n"
   ]
  },
  {
   "cell_type": "code",
   "execution_count": 3,
   "id": "94a966b0",
   "metadata": {},
   "outputs": [
    {
     "data": {
      "text/plain": [
       "5"
      ]
     },
     "execution_count": 3,
     "metadata": {},
     "output_type": "execute_result"
    }
   ],
   "source": [
    "\n",
    "\n",
    "def calcul(a,b):\n",
    "    return a + b\n",
    "\n",
    "calcul(2,3)\n"
   ]
  },
  {
   "cell_type": "code",
   "execution_count": null,
   "id": "5ace2e06",
   "metadata": {},
   "outputs": [],
   "source": [
    "age = 111\n",
    "if age>=22 and age<=29:\n",
    "    print(\" u are a man now \")\n",
    "elif age <=17:\n",
    "    print(\"you are a little kid\")\n",
    "elif age>=30 and age<=100:\n",
    "    print(\"u looks older\")\n",
    "elif age>100:\n",
    "    print(\"are you still alive :) \")\n",
    "else:\n",
    "    print(\"a boy\")"
   ]
  },
  {
   "cell_type": "code",
   "execution_count": null,
   "id": "83d72038",
   "metadata": {},
   "outputs": [
    {
     "name": "stdout",
     "output_type": "stream",
     "text": [
      "Thameem\n",
      "19\n"
     ]
    }
   ],
   "source": [
    "class Student:\n",
    "    def __init__(self,name,age):\n",
    "        self.name=name\n",
    "        self.age=age\n",
    "\n",
    "student1=Student(\"Thameem\",19)\n",
    "\n",
    "print(student1.name)\n",
    "print(student1.age)"
   ]
  },
  {
   "cell_type": "code",
   "execution_count": 3,
   "id": "d762be81",
   "metadata": {},
   "outputs": [
    {
     "name": "stdout",
     "output_type": "stream",
     "text": [
      "skyline r34\n"
     ]
    }
   ],
   "source": [
    "class Car:\n",
    "    def __init__(self):\n",
    "        print(\"skyline r34\")\n",
    "\n",
    "car1=Car()"
   ]
  },
  {
   "cell_type": "code",
   "execution_count": 8,
   "id": "30c1d3a9",
   "metadata": {},
   "outputs": [
    {
     "name": "stdout",
     "output_type": "stream",
     "text": [
      "oggy\n",
      "The oggy says meow\n"
     ]
    }
   ],
   "source": [
    "class Cat:\n",
    "    def __init__(self,name,age):\n",
    "        self.name=name\n",
    "        self.age=age\n",
    "\n",
    "    def sound(self):\n",
    "        print(f\"The {self.name} says meow\")\n",
    "\n",
    "cat1=Cat(\"oggy\",2)\n",
    "\n",
    "print(cat1.name)\n",
    "cat1.sound()\n",
    "\n"
   ]
  },
  {
   "cell_type": "code",
   "execution_count": null,
   "id": "e51eb40a",
   "metadata": {},
   "outputs": [],
   "source": []
  }
 ],
 "metadata": {
  "kernelspec": {
   "display_name": "base",
   "language": "python",
   "name": "python3"
  },
  "language_info": {
   "codemirror_mode": {
    "name": "ipython",
    "version": 3
   },
   "file_extension": ".py",
   "mimetype": "text/x-python",
   "name": "python",
   "nbconvert_exporter": "python",
   "pygments_lexer": "ipython3",
   "version": "3.13.5"
  }
 },
 "nbformat": 4,
 "nbformat_minor": 5
}
