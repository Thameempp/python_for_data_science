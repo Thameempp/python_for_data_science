{
 "cells": [
  {
   "cell_type": "code",
   "execution_count": 4,
   "id": "2a6dcc56",
   "metadata": {},
   "outputs": [
    {
     "data": {
      "text/plain": [
       "11"
      ]
     },
     "execution_count": 4,
     "metadata": {},
     "output_type": "execute_result"
    }
   ],
   "source": [
    "def addition(a,b):\n",
    "    return a + b\n",
    "addition(2,9)\n"
   ]
  },
  {
   "cell_type": "code",
   "execution_count": 3,
   "id": "94a966b0",
   "metadata": {},
   "outputs": [
    {
     "data": {
      "text/plain": [
       "5"
      ]
     },
     "execution_count": 3,
     "metadata": {},
     "output_type": "execute_result"
    }
   ],
   "source": [
    "\n",
    "\n",
    "def calcul(a,b):\n",
    "    return a + b\n",
    "\n",
    "calcul(2,3)\n"
   ]
  },
  {
   "cell_type": "code",
   "execution_count": null,
   "id": "5ace2e06",
   "metadata": {},
   "outputs": [],
   "source": [
    "age = 111\n",
    "if age>=22 and age<=29:\n",
    "    print(\" u are a man now \")\n",
    "elif age <=17:\n",
    "    print(\"you are a little kid\")\n",
    "elif age>=30 and age<=100:\n",
    "    print(\"u looks older\")\n",
    "elif age>100:\n",
    "    print(\"are you still alive :) \")\n",
    "else:\n",
    "    print(\"a boy\")"
   ]
  }
 ],
 "metadata": {
  "kernelspec": {
   "display_name": "base",
   "language": "python",
   "name": "python3"
  },
  "language_info": {
   "codemirror_mode": {
    "name": "ipython",
    "version": 3
   },
   "file_extension": ".py",
   "mimetype": "text/x-python",
   "name": "python",
   "nbconvert_exporter": "python",
   "pygments_lexer": "ipython3",
   "version": "3.13.5"
  }
 },
 "nbformat": 4,
 "nbformat_minor": 5
}
