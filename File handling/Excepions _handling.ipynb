{
 "cells": [
  {
   "cell_type": "code",
   "execution_count": null,
   "id": "ba27ed21",
   "metadata": {},
   "outputs": [],
   "source": [
    "#-------Understanding Exceptions-------#\n",
    "# Exception handling in Python allows you to handle errors gracefully and take corrective actions without stopping the execution of the  program.\n",
    "\n",
    "'''\n",
    "Common exceptions include:\n",
    "\n",
    "ZeroDivisionError: Dividing by zero.\n",
    "FileNotFoundError: File not found.\n",
    "ValueError: Invalid value.\n",
    "TypeError: Invalid type. \n",
    "\n",
    "'''"
   ]
  },
  {
   "cell_type": "code",
   "execution_count": 3,
   "id": "6054d93f",
   "metadata": {},
   "outputs": [
    {
     "ename": "NameError",
     "evalue": "name 'b' is not defined",
     "output_type": "error",
     "traceback": [
      "\u001b[31m---------------------------------------------------------------------------\u001b[39m",
      "\u001b[31mNameError\u001b[39m                                 Traceback (most recent call last)",
      "\u001b[36mCell\u001b[39m\u001b[36m \u001b[39m\u001b[32mIn[3]\u001b[39m\u001b[32m, line 1\u001b[39m\n\u001b[32m----> \u001b[39m\u001b[32m1\u001b[39m a=\u001b[43mb\u001b[49m\n",
      "\u001b[31mNameError\u001b[39m: name 'b' is not defined"
     ]
    }
   ],
   "source": [
    " a=b"
   ]
  },
  {
   "cell_type": "code",
   "execution_count": 2,
   "id": "11cd5173",
   "metadata": {},
   "outputs": [
    {
     "name": "stdout",
     "output_type": "stream",
     "text": [
      "The variable has not been assined\n"
     ]
    }
   ],
   "source": [
    "# Try - Except\n",
    "try:\n",
    "    a=b\n",
    "except:\n",
    "    print(\"The variable has not been assined\")"
   ]
  },
  {
   "cell_type": "code",
   "execution_count": 4,
   "id": "c241420c",
   "metadata": {},
   "outputs": [
    {
     "name": "stdout",
     "output_type": "stream",
     "text": [
      "name 'b' is not defined\n"
     ]
    }
   ],
   "source": [
    "try:\n",
    "    a=b\n",
    "except NameError as ex:\n",
    "    print(ex)"
   ]
  },
  {
   "cell_type": "code",
   "execution_count": 5,
   "id": "d4904892",
   "metadata": {},
   "outputs": [
    {
     "name": "stdout",
     "output_type": "stream",
     "text": [
      "division by zero\n",
      "Please enter denominator greater than 0\n"
     ]
    }
   ],
   "source": [
    "try:\n",
    "    result=1/0\n",
    "except ZeroDivisionError as ex:\n",
    "    print(ex)\n",
    "    print(\"Please enter denominator greater than 0\")"
   ]
  },
  {
   "cell_type": "code",
   "execution_count": 16,
   "id": "4cdb32e5",
   "metadata": {},
   "outputs": [
    {
     "name": "stdout",
     "output_type": "stream",
     "text": [
      "division by zero\n",
      "Please enter the denominator greater than 0\n"
     ]
    }
   ],
   "source": [
    "try:\n",
    "    result=1/int(input(\"Enter denominator: \"))\n",
    "    a=b\n",
    "except ZeroDivisionError as ex:\n",
    "    print(ex)\n",
    "    print(\"Please enter the denominator greater than 0\")\n",
    "except Exception as ex1:\n",
    "    print(ex1)\n",
    "    print('Main exception got caught here')\n"
   ]
  },
  {
   "cell_type": "code",
   "execution_count": null,
   "id": "bc50114d",
   "metadata": {},
   "outputs": [
    {
     "name": "stdout",
     "output_type": "stream",
     "text": [
      "0.1\n"
     ]
    }
   ],
   "source": [
    "try:\n",
    "    num=int(input(\"Enter denominator: \"))\n",
    "    result=1/num\n",
    "    print(result)\n",
    "except ZeroDivisionError :\n",
    "    print(\"Please enter the denominator greater than 0 \")\n",
    "except ValueError :\n",
    "    print(\"Enter a valid number\")\n",
    "except Exception as y:\n",
    "    print(y)"
   ]
  },
  {
   "cell_type": "markdown",
   "id": "33e9e20c",
   "metadata": {},
   "source": []
  },
  {
   "cell_type": "code",
   "execution_count": 34,
   "id": "ef2a2d6c",
   "metadata": {},
   "outputs": [
    {
     "name": "stdout",
     "output_type": "stream",
     "text": [
      "The result is 100.0\n"
     ]
    }
   ],
   "source": [
    "# try,except,else block\n",
    "try:\n",
    "    num=float(input(\"Enter a number: \"))\n",
    "    result=10/num\n",
    "except ValueError:\n",
    "    print(\"That's not a valid number!\")\n",
    "except ZeroDivisionError:\n",
    "    print(\"You can't divide by zero!\")\n",
    "except Exception as ex:\n",
    "    print(ex)\n",
    "else:\n",
    "    print(f\"The result is {result}\")\n",
    "\n"
   ]
  },
  {
   "cell_type": "code",
   "execution_count": 35,
   "id": "252765f7",
   "metadata": {},
   "outputs": [
    {
     "name": "stdout",
     "output_type": "stream",
     "text": [
      "The result is 1.0\n",
      "Execution complete\n"
     ]
    }
   ],
   "source": [
    "# try,except,else and finally\n",
    "try:\n",
    "    num=int(input(\"Enter a number: \"))\n",
    "    result=10/num\n",
    "except ValueError:\n",
    "    print(\"Enter a valid number!\")\n",
    "except ZeroDivisionError:\n",
    "    print(\"You can't divide by zero!\")\n",
    "else:\n",
    "    print(f\"The result is {result}\")\n",
    "finally:\n",
    "    print(\"Execution complete\")"
   ]
  },
  {
   "cell_type": "code",
   "execution_count": null,
   "id": "b94d059c",
   "metadata": {},
   "outputs": [],
   "source": [
    "# File handling and Exception handling\n",
    "\n"
   ]
  }
 ],
 "metadata": {
  "kernelspec": {
   "display_name": "base",
   "language": "python",
   "name": "python3"
  },
  "language_info": {
   "codemirror_mode": {
    "name": "ipython",
    "version": 3
   },
   "file_extension": ".py",
   "mimetype": "text/x-python",
   "name": "python",
   "nbconvert_exporter": "python",
   "pygments_lexer": "ipython3",
   "version": "3.13.5"
  }
 },
 "nbformat": 4,
 "nbformat_minor": 5
}
