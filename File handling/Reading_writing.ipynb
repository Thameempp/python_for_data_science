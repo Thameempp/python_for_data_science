{
 "cells": [
  {
   "cell_type": "code",
   "execution_count": null,
   "id": "abc09cc9",
   "metadata": {},
   "outputs": [
    {
     "name": "stdout",
     "output_type": "stream",
     "text": [
      "Hello\n",
      "example for writing and reading\n",
      "\n"
     ]
    }
   ],
   "source": [
    "# Reading a file \n",
    "with open('example.txt','r') as file:\n",
    "    readd=file.read()\n",
    "    print(readd)"
   ]
  },
  {
   "cell_type": "code",
   "execution_count": 21,
   "id": "8329dab9",
   "metadata": {},
   "outputs": [],
   "source": [
    "# Write a file (overwriting)\n",
    "with open('example.txt','w') as file:\n",
    "    file.write('hi hello\\n')"
   ]
  },
  {
   "cell_type": "code",
   "execution_count": null,
   "id": "51220959",
   "metadata": {},
   "outputs": [],
   "source": [
    "#Write a file (without overwrite)\n",
    "with open('example.txt','a') as file:\n",
    "    file.write('thameem in new line \\n')"
   ]
  },
  {
   "cell_type": "code",
   "execution_count": null,
   "id": "65ee8214",
   "metadata": {},
   "outputs": [],
   "source": [
    "# Writing a list of lines to files\n",
    "lines=['first line\\n','second line\\n','third line\\n']\n",
    "with open('example.txt','a') as file:\n",
    "    file.writelines(lines)"
   ]
  },
  {
   "cell_type": "code",
   "execution_count": 31,
   "id": "bfc1f179",
   "metadata": {},
   "outputs": [
    {
     "name": "stdout",
     "output_type": "stream",
     "text": [
      "b'Hello world'\n"
     ]
    }
   ],
   "source": [
    "# Binary files\n",
    "# : To write to a binary file, use 'wb' mode. To read from a binary file, use 'rb' mode.\n",
    "\n",
    "with open('example11.bin','wb') as file:\n",
    "    file.write(b'Hello world')\n",
    "\n",
    "\n",
    "with open('example11.bin', 'rb') as file:\n",
    "    content=file.read()\n",
    "    print(content)"
   ]
  },
  {
   "cell_type": "code",
   "execution_count": 9,
   "id": "a007ba4c",
   "metadata": {},
   "outputs": [],
   "source": [
    "# Copying content from one file to another \n",
    "with open('example.txt','r') as source_file:\n",
    "    source = source_file.read()\n",
    "\n",
    "with open('destination.txt','w') as destination_file:\n",
    "    destination_file.write(source)\n"
   ]
  },
  {
   "cell_type": "code",
   "execution_count": null,
   "id": "5a318d0e",
   "metadata": {},
   "outputs": [],
   "source": [
    "### Counting Lines, Words, and Characters in a File\n",
    "\n"
   ]
  },
  {
   "cell_type": "code",
   "execution_count": 10,
   "id": "a407c494",
   "metadata": {},
   "outputs": [
    {
     "name": "stdout",
     "output_type": "stream",
     "text": [
      "Hello World\n",
      "text in new line\n",
      "\n"
     ]
    }
   ],
   "source": [
    "# Reading and Writing in the Same File Session\n",
    "# : To open a file for both reading and writing, use the 'w+' mode. If the file does not exist, it will be created. If it exists, its content will be truncated (overwritten).\n",
    "\n",
    "with open('example.txt', 'w+') as file:\n",
    "    file.write('Hello World\\n')\n",
    "    file.write('text in new line\\n')\n",
    "    file.seek(0)\n",
    "    #he seek(0) method moves the file cursor to the beginning, allowing you to read the content after writing. Always use seek(0) before reading if you have just written to the file.\n",
    "    content = file.read()\n",
    "    print(content)\n"
   ]
  }
 ],
 "metadata": {
  "kernelspec": {
   "display_name": "base",
   "language": "python",
   "name": "python3"
  },
  "language_info": {
   "codemirror_mode": {
    "name": "ipython",
    "version": 3
   },
   "file_extension": ".py",
   "mimetype": "text/x-python",
   "name": "python",
   "nbconvert_exporter": "python",
   "pygments_lexer": "ipython3",
   "version": "3.13.5"
  }
 },
 "nbformat": 4,
 "nbformat_minor": 5
}
