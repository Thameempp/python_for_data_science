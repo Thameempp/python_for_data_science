{
 "cells": [
  {
   "cell_type": "code",
   "execution_count": null,
   "id": "50cb06f8",
   "metadata": {},
   "outputs": [],
   "source": [
    "# Writing to a File (overwrite mode) and Appending to a file \n",
    "#  \"w\" → write mode (erases old content if file exists).\n",
    "#  \"a\" → append mode (keeps existing content)."
   ]
  },
  {
   "cell_type": "code",
   "execution_count": null,
   "id": "938d66a2",
   "metadata": {},
   "outputs": [
    {
     "name": "stdout",
     "output_type": "stream",
     "text": [
      "Data written to example.txt\n"
     ]
    }
   ],
   "source": [
    "# Writing to a file (creates new or overwrites existing)\n",
    "with open(\"example.txt\", \"w\") as file:\n",
    "    file.write(\"Hello, this is the first line.\\n\")\n",
    "    file.write(\"This will overwrite old content.\\n\")\n",
    "\n",
    "print(\"Data written to example.txt\")"
   ]
  },
  {
   "cell_type": "code",
   "execution_count": 2,
   "id": "6ecc9eb6",
   "metadata": {},
   "outputs": [
    {
     "name": "stdout",
     "output_type": "stream",
     "text": [
      "Data appended to example.txt\n"
     ]
    }
   ],
   "source": [
    "# Appending to a file (adds to the end of file)\n",
    "with open(\"example.txt\", \"a\") as file:\n",
    "    file.write(\"Adding a new line without deleting old content.\\n\")\n",
    "    file.write(\"Appending more text here!\\n\")\n",
    "\n",
    "print(\"Data appended to example.txt\")"
   ]
  },
  {
   "cell_type": "code",
   "execution_count": 3,
   "id": "a06ee3a8",
   "metadata": {},
   "outputs": [
    {
     "name": "stdout",
     "output_type": "stream",
     "text": [
      "File Content:\n",
      " Hello, this is the first line.\n",
      "This will overwrite old content.\n",
      "Adding a new line without deleting old content.\n",
      "Appending more text here!\n",
      "\n"
     ]
    }
   ],
   "source": [
    "#  Reading Back to Verify\n",
    "with open(\"example.txt\", \"r\") as file:\n",
    "    content = file.read()\n",
    "    print(\"File Content:\\n\", content)"
   ]
  },
  {
   "cell_type": "code",
   "execution_count": null,
   "id": "247f65a1",
   "metadata": {},
   "outputs": [],
   "source": []
  }
 ],
 "metadata": {
  "kernelspec": {
   "display_name": "base",
   "language": "python",
   "name": "python3"
  },
  "language_info": {
   "codemirror_mode": {
    "name": "ipython",
    "version": 3
   },
   "file_extension": ".py",
   "mimetype": "text/x-python",
   "name": "python",
   "nbconvert_exporter": "python",
   "pygments_lexer": "ipython3",
   "version": "3.13.5"
  }
 },
 "nbformat": 4,
 "nbformat_minor": 5
}
