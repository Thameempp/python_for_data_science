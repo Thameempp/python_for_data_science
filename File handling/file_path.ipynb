{
 "cells": [
  {
   "cell_type": "code",
   "execution_count": 1,
   "id": "1ddf25ce",
   "metadata": {},
   "outputs": [
    {
     "name": "stdout",
     "output_type": "stream",
     "text": [
      "Directory'package'create\n"
     ]
    }
   ],
   "source": [
    "import os\n",
    "# create a new directory\n",
    "new_directory=\"package\"\n",
    "os.mkdir(new_directory)\n",
    "print(f\"Directory'{new_directory}'create\")\n"
   ]
  },
  {
   "cell_type": "code",
   "execution_count": 2,
   "id": "3bd7cc4c",
   "metadata": {},
   "outputs": [
    {
     "name": "stdout",
     "output_type": "stream",
     "text": [
      "['destination.txt', 'file_path.ipynb', 'Reading_writing.ipynb', 'example.txt', 'package']\n"
     ]
    }
   ],
   "source": [
    "# Listing Files and Directories\n",
    "\n",
    "items=os.listdir('.')\n",
    "print(items)"
   ]
  },
  {
   "cell_type": "code",
   "execution_count": 15,
   "id": "5e4c4fae",
   "metadata": {},
   "outputs": [
    {
     "name": "stdout",
     "output_type": "stream",
     "text": [
      "folder/file.txt\n"
     ]
    }
   ],
   "source": [
    "### Joining paths   (older method ; os.path.join() ) :    import os\n",
    "#                                                         path = os.path.join(\"folder\", \"subfolder\", \"file.txt\")\n",
    "#   : combining multiple parts of a file or folder path into one valid path — in a way that works on any operating system (Windows, macOS, Linux).\n",
    "\n",
    "\n",
    "dir_name=\"folder\"\n",
    "file_name=\"file.txt\"\n",
    "file_path=os.path.join(dir_name,file_name)\n",
    "print(file_path)"
   ]
  },
  {
   "cell_type": "code",
   "execution_count": 13,
   "id": "0ac6398f",
   "metadata": {},
   "outputs": [
    {
     "name": "stdout",
     "output_type": "stream",
     "text": [
      "folder/file.txt\n"
     ]
    }
   ],
   "source": [
    "### Joining path ( modern method : pathlib.path ) : from pathlib import Path\n",
    "                                  # path = Path(\"folder\") / \"subfolder\" / \"file.txt\" \n",
    "from pathlib import Path\n",
    "\n",
    "path = Path(\"folder\") / \"file.txt\"\n",
    "print(path)"
   ]
  },
  {
   "cell_type": "code",
   "execution_count": 7,
   "id": "bcaefd2e",
   "metadata": {},
   "outputs": [
    {
     "name": "stdout",
     "output_type": "stream",
     "text": [
      "/Users/thameem/Documents/thameem/Python Basics/File handling/folder/file1.txt\n"
     ]
    }
   ],
   "source": [
    "# to get the path of entire current working directory:\n",
    "dir_name=\"folder\"\n",
    "file_name=\"file1.txt\"\n",
    "file_path=os.path.join(os.getcwd(),dir_name,file_name)\n",
    "print(file_path)"
   ]
  },
  {
   "cell_type": "code",
   "execution_count": 6,
   "id": "273bcd3f",
   "metadata": {},
   "outputs": [
    {
     "name": "stdout",
     "output_type": "stream",
     "text": [
      "The path'example1.txt'does not exists \n"
     ]
    }
   ],
   "source": [
    "path='example1.txt'\n",
    "if os.path.exists(path):\n",
    "    print(f\"The path '{path}' exists \")\n",
    "else:\n",
    "    print(f\"The path'{path}'does not exists \")"
   ]
  },
  {
   "cell_type": "code",
   "execution_count": null,
   "id": "0e8ca4ff",
   "metadata": {},
   "outputs": [],
   "source": [
    "# checking if a path is a File or Directory\n",
    "import os \n",
    "\n",
    "path='example1.txt'\n",
    "if os.path.isfile(path):\n",
    "    print(f\"The path '{path}' is a file\")\n",
    "elif os.path.isdir(path):\n",
    "    "
   ]
  }
 ],
 "metadata": {
  "kernelspec": {
   "display_name": "base",
   "language": "python",
   "name": "python3"
  },
  "language_info": {
   "codemirror_mode": {
    "name": "ipython",
    "version": 3
   },
   "file_extension": ".py",
   "mimetype": "text/x-python",
   "name": "python",
   "nbconvert_exporter": "python",
   "pygments_lexer": "ipython3",
   "version": "3.13.5"
  }
 },
 "nbformat": 4,
 "nbformat_minor": 5
}
