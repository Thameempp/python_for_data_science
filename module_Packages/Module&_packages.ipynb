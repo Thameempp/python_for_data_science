{
 "cells": [
  {
   "cell_type": "code",
   "execution_count": null,
   "id": "d6e024c8",
   "metadata": {},
   "outputs": [],
   "source": [
    "# Module : A file that contains Python code.\n",
    "# Packages : A folder that contains one or more modules."
   ]
  },
  {
   "cell_type": "code",
   "execution_count": null,
   "id": "e5fff13b",
   "metadata": {},
   "outputs": [],
   "source": [
    "import os\n",
    "os.getcwd()\n"
   ]
  },
  {
   "cell_type": "code",
   "execution_count": null,
   "id": "b291e6a5",
   "metadata": {},
   "outputs": [],
   "source": [
    "import math \n",
    "print(math.sqrt(49))"
   ]
  },
  {
   "cell_type": "code",
   "execution_count": null,
   "id": "25a88957",
   "metadata": {},
   "outputs": [],
   "source": [
    "from math import*\n",
    "print(math.sqrt(36))\n",
    "print(pi)"
   ]
  },
  {
   "cell_type": "code",
   "execution_count": null,
   "id": "59c269af",
   "metadata": {},
   "outputs": [],
   "source": [
    "import sub\n",
    "sub.substraction(3,1)"
   ]
  },
  {
   "cell_type": "code",
   "execution_count": null,
   "id": "98fba065",
   "metadata": {},
   "outputs": [],
   "source": [
    "import numpy as np\n",
    "np.array([1,2,3,4,5])"
   ]
  },
  {
   "cell_type": "code",
   "execution_count": null,
   "id": "cbe3ade6",
   "metadata": {},
   "outputs": [],
   "source": [
    "from math import*\n",
    "sqrt(36)"
   ]
  },
  {
   "cell_type": "code",
   "execution_count": null,
   "id": "1f7b9e41",
   "metadata": {},
   "outputs": [],
   "source": [
    "import maths\n",
    "addtn"
   ]
  },
  {
   "cell_type": "code",
   "execution_count": null,
   "id": "b92707c8",
   "metadata": {},
   "outputs": [],
   "source": [
    "import maths\n",
    "addtn(1,2)"
   ]
  },
  {
   "cell_type": "code",
   "execution_count": null,
   "id": "1f9356da",
   "metadata": {},
   "outputs": [],
   "source": [
    "import maths\n",
    "maths.addtn(1,2)"
   ]
  },
  {
   "cell_type": "code",
   "execution_count": null,
   "id": "d22670c2",
   "metadata": {},
   "outputs": [],
   "source": [
    "import maths2\n",
    "maths2.substraction(9,5)\n",
    "maths2.addddtn(4,7)"
   ]
  },
  {
   "cell_type": "code",
   "execution_count": 3,
   "id": "b187fa25",
   "metadata": {},
   "outputs": [
    {
     "name": "stdout",
     "output_type": "stream",
     "text": [
      "1\n",
      "18\n"
     ]
    }
   ],
   "source": [
    "import maths2\n",
    "print(maths2.substraction(9, 8))  # ✅ Should print 4\n",
    "print(maths2.addddtn(9, 9))       # ✅ Should print 14\n"
   ]
  },
  {
   "cell_type": "code",
   "execution_count": 4,
   "id": "7d1b99df",
   "metadata": {},
   "outputs": [
    {
     "name": "stdout",
     "output_type": "stream",
     "text": [
      "3\n",
      "1\n"
     ]
    }
   ],
   "source": [
    "import maths\n",
    "print(maths.addtn(1,2))\n",
    "print(maths.minus(4,3))"
   ]
  },
  {
   "cell_type": "code",
   "execution_count": null,
   "id": "e6822710",
   "metadata": {},
   "outputs": [],
   "source": []
  }
 ],
 "metadata": {
  "kernelspec": {
   "display_name": "base",
   "language": "python",
   "name": "python3"
  },
  "language_info": {
   "codemirror_mode": {
    "name": "ipython",
    "version": 3
   },
   "file_extension": ".py",
   "mimetype": "text/x-python",
   "name": "python",
   "nbconvert_exporter": "python",
   "pygments_lexer": "ipython3",
   "version": "3.13.5"
  }
 },
 "nbformat": 4,
 "nbformat_minor": 5
}
