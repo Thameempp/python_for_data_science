{
 "cells": [
  {
   "cell_type": "code",
   "execution_count": null,
   "id": "d6e024c8",
   "metadata": {},
   "outputs": [],
   "source": [
    "# Module : A file that contains Python code.\n",
    "# Packages : A folder that contains one or more modules."
   ]
  },
  {
   "cell_type": "code",
   "execution_count": 1,
   "id": "b291e6a5",
   "metadata": {},
   "outputs": [
    {
     "name": "stdout",
     "output_type": "stream",
     "text": [
      "7.0\n"
     ]
    }
   ],
   "source": [
    "import math \n",
    "print(math.sqrt(49))"
   ]
  },
  {
   "cell_type": "code",
   "execution_count": 3,
   "id": "25a88957",
   "metadata": {},
   "outputs": [
    {
     "name": "stdout",
     "output_type": "stream",
     "text": [
      "6.0\n",
      "3.141592653589793\n"
     ]
    }
   ],
   "source": [
    "from math import*\n",
    "print(math.sqrt(36))\n",
    "print(pi)"
   ]
  },
  {
   "cell_type": "code",
   "execution_count": 1,
   "id": "59c269af",
   "metadata": {},
   "outputs": [
    {
     "ename": "ModuleNotFoundError",
     "evalue": "No module named 'Basics'",
     "output_type": "error",
     "traceback": [
      "\u001b[31m---------------------------------------------------------------------------\u001b[39m",
      "\u001b[31mModuleNotFoundError\u001b[39m                       Traceback (most recent call last)",
      "\u001b[36mCell\u001b[39m\u001b[36m \u001b[39m\u001b[32mIn[1]\u001b[39m\u001b[32m, line 1\u001b[39m\n\u001b[32m----> \u001b[39m\u001b[32m1\u001b[39m \u001b[38;5;28;01mfrom\u001b[39;00m\u001b[38;5;250m \u001b[39m\u001b[34;01mBasics\u001b[39;00m\u001b[34;01m.\u001b[39;00m\u001b[34;01mpackagess\u001b[39;00m\u001b[34;01m.\u001b[39;00m\u001b[34;01mmaths\u001b[39;00m\u001b[38;5;250m \u001b[39m\u001b[38;5;28;01mimport\u001b[39;00m addition\n\u001b[32m      2\u001b[39m addition(\u001b[32m2\u001b[39m,\u001b[32m3\u001b[39m) \n",
      "\u001b[31mModuleNotFoundError\u001b[39m: No module named 'Basics'"
     ]
    }
   ],
   "source": [
    "from Basics.packagess.maths import addition\n",
    "addition(2,3) "
   ]
  },
  {
   "cell_type": "code",
   "execution_count": null,
   "id": "3b383c1c",
   "metadata": {},
   "outputs": [],
   "source": []
  }
 ],
 "metadata": {
  "kernelspec": {
   "display_name": "base",
   "language": "python",
   "name": "python3"
  },
  "language_info": {
   "codemirror_mode": {
    "name": "ipython",
    "version": 3
   },
   "file_extension": ".py",
   "mimetype": "text/x-python",
   "name": "python",
   "nbconvert_exporter": "python",
   "pygments_lexer": "ipython3",
   "version": "3.13.5"
  }
 },
 "nbformat": 4,
 "nbformat_minor": 5
}
