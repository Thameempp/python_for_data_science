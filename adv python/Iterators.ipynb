{
 "cells": [
  {
   "cell_type": "code",
   "execution_count": null,
   "id": "ebf9e078",
   "metadata": {},
   "outputs": [],
   "source": [
    "# Iterator : concept that allows for efficient looping and memory management. Iterators provide a way to access elements of a collection    sequentially without exposing the underlying structure.\n",
    "\n",
    "list=[2,4,6,8,10]\n",
    "print(list)\n",
    "\n"
   ]
  },
  {
   "cell_type": "code",
   "execution_count": null,
   "id": "522b2a06",
   "metadata": {},
   "outputs": [],
   "source": [
    "iterator = iter(list)"
   ]
  },
  {
   "cell_type": "code",
   "execution_count": 79,
   "id": "dcceb3c5",
   "metadata": {},
   "outputs": [
    {
     "data": {
      "text/plain": [
       "<list_iterator at 0x105eb1f00>"
      ]
     },
     "execution_count": 79,
     "metadata": {},
     "output_type": "execute_result"
    }
   ],
   "source": [
    "iterator"
   ]
  },
  {
   "cell_type": "code",
   "execution_count": 62,
   "id": "cf3131b7",
   "metadata": {},
   "outputs": [
    {
     "data": {
      "text/plain": [
       "6"
      ]
     },
     "execution_count": 62,
     "metadata": {},
     "output_type": "execute_result"
    }
   ],
   "source": [
    "next(iterator)"
   ]
  },
  {
   "cell_type": "code",
   "execution_count": 71,
   "id": "d948feed",
   "metadata": {},
   "outputs": [],
   "source": [
    "iterator = iter(list)"
   ]
  },
  {
   "cell_type": "code",
   "execution_count": 80,
   "id": "b7e54a78",
   "metadata": {},
   "outputs": [
    {
     "name": "stdout",
     "output_type": "stream",
     "text": [
      "there are no elements in the iterator\n"
     ]
    }
   ],
   "source": [
    "\n",
    "try:\n",
    "    print(next(iterator))\n",
    "except StopIteration:\n",
    "    print(\"there are no elements in the iterator\")"
   ]
  },
  {
   "cell_type": "code",
   "execution_count": 112,
   "id": "f35e92df",
   "metadata": {},
   "outputs": [
    {
     "name": "stdout",
     "output_type": "stream",
     "text": [
      "h\n",
      "e\n"
     ]
    }
   ],
   "source": [
    "# string iterator\n",
    "\n",
    "my_string = \"hello\"\n",
    "string_iterator = iter(my_string)\n",
    "\n",
    "print(next(string_iterator))\n",
    "print(next(string_iterator))"
   ]
  },
  {
   "cell_type": "code",
   "execution_count": 113,
   "id": "5fc8e48b",
   "metadata": {},
   "outputs": [
    {
     "data": {
      "text/plain": [
       "<str_ascii_iterator at 0x105ef09d0>"
      ]
     },
     "execution_count": 113,
     "metadata": {},
     "output_type": "execute_result"
    }
   ],
   "source": [
    "string_iterator"
   ]
  },
  {
   "cell_type": "code",
   "execution_count": 117,
   "id": "5b386d2f",
   "metadata": {},
   "outputs": [
    {
     "name": "stdout",
     "output_type": "stream",
     "text": [
      "there are no letter in the iterator\n"
     ]
    }
   ],
   "source": [
    "try:\n",
    "    print(next(string_iterator))\n",
    "except StopIteration: \n",
    "    print(\"there are no letter in the iterator\")"
   ]
  }
 ],
 "metadata": {
  "kernelspec": {
   "display_name": "base",
   "language": "python",
   "name": "python3"
  },
  "language_info": {
   "codemirror_mode": {
    "name": "ipython",
    "version": 3
   },
   "file_extension": ".py",
   "mimetype": "text/x-python",
   "name": "python",
   "nbconvert_exporter": "python",
   "pygments_lexer": "ipython3",
   "version": "3.13.5"
  }
 },
 "nbformat": 4,
 "nbformat_minor": 5
}
