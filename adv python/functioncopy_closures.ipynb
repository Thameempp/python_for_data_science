{
 "cells": [
  {
   "cell_type": "code",
   "execution_count": 1,
   "id": "4f2c33a4",
   "metadata": {},
   "outputs": [],
   "source": [
    "# function copy : refers to assigning a function to another variable\n",
    "\n",
    "def welcome():\n",
    "    return \"welcome to advanced python topics\""
   ]
  },
  {
   "cell_type": "code",
   "execution_count": 4,
   "id": "1c1d6e37",
   "metadata": {},
   "outputs": [
    {
     "data": {
      "text/plain": [
       "'welcome to advanced python topics'"
      ]
     },
     "execution_count": 4,
     "metadata": {},
     "output_type": "execute_result"
    }
   ],
   "source": [
    "welcome()"
   ]
  },
  {
   "cell_type": "code",
   "execution_count": null,
   "id": "a4512547",
   "metadata": {},
   "outputs": [
    {
     "name": "stdout",
     "output_type": "stream",
     "text": [
      "welcome to advanced python topics\n",
      "welcome to advanced python topics\n"
     ]
    }
   ],
   "source": [
    "well = welcome\n",
    "print(well())\n",
    "del welcome        # deleting the original welcome function\n",
    "print(well())      # Even after deleting the original welcome function, the copied function well continues to work"
   ]
  },
  {
   "cell_type": "markdown",
   "id": "9f2e91f3",
   "metadata": {},
   "source": [
    "### Closures \n",
    "A closure is a function defined inside another function, which can access variables from the enclosing function's scope. "
   ]
  },
  {
   "cell_type": "code",
   "execution_count": 24,
   "id": "8553e8ab",
   "metadata": {},
   "outputs": [
    {
     "name": "stdout",
     "output_type": "stream",
     "text": [
      "welcome to the advanced python topics\n",
      "make sure u have completed function basics\n",
      "hey there\n"
     ]
    }
   ],
   "source": [
    "def main_welcome():\n",
    "    message=\"hey there\"\n",
    "    def sub_welcome():\n",
    "        print(\"welcome to the advanced python topics\")\n",
    "        print(\"make sure u have completed function basics\")\n",
    "        print(message)\n",
    "    return sub_welcome\n",
    "\n",
    "main_welcome()\n",
    "\n",
    "closure_function = main_welcome()\n",
    "closure_function()"
   ]
  },
  {
   "cell_type": "code",
   "execution_count": 30,
   "id": "65dc936f",
   "metadata": {},
   "outputs": [
    {
     "name": "stdout",
     "output_type": "stream",
     "text": [
      "first text inside sub welcome\n",
      "hey\n",
      "second text inside sub welcome\n"
     ]
    }
   ],
   "source": [
    "def main_welcome(func):\n",
    "    def sub_welcome():\n",
    "        print(\"first text inside sub welcome\")\n",
    "        func(\"hey\")\n",
    "        print(\"second text inside sub welcome\")\n",
    "    return sub_welcome\n",
    "\n",
    "closure_function=main_welcome(print)\n",
    "closure_function()"
   ]
  },
  {
   "cell_type": "code",
   "execution_count": 34,
   "id": "073a28ce",
   "metadata": {},
   "outputs": [
    {
     "name": "stdout",
     "output_type": "stream",
     "text": [
      "welcome to the advanced python topic\n",
      "6\n",
      "Hello\n"
     ]
    }
   ],
   "source": [
    "def main_welcome(func,list):\n",
    "    def sub_welcome():\n",
    "        print(\"welcome to the advanced python topic\")\n",
    "        print(func(list))\n",
    "        print(\"Hello\")\n",
    "    return sub_welcome()\n",
    "\n",
    "main_welcome(len,[1,2,3,4,5,6])"
   ]
  }
 ],
 "metadata": {
  "kernelspec": {
   "display_name": "base",
   "language": "python",
   "name": "python3"
  },
  "language_info": {
   "codemirror_mode": {
    "name": "ipython",
    "version": 3
   },
   "file_extension": ".py",
   "mimetype": "text/x-python",
   "name": "python",
   "nbconvert_exporter": "python",
   "pygments_lexer": "ipython3",
   "version": "3.13.5"
  }
 },
 "nbformat": 4,
 "nbformat_minor": 5
}
