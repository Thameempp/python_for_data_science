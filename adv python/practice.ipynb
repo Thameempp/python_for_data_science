{
 "cells": [
  {
   "cell_type": "markdown",
   "id": "60c9c9d2",
   "metadata": {},
   "source": [
    "# Iterator , generator , closure and decorator problems"
   ]
  },
  {
   "cell_type": "code",
   "execution_count": null,
   "id": "c87ac982",
   "metadata": {},
   "outputs": [],
   "source": [
    "# custom iterator\n",
    "class Countdown:\n",
    "    def __init__(self, start):\n",
    "        self.current = start\n",
    "\n",
    "    def __iter__(self):\n",
    "        return self\n",
    "\n",
    "    def __next__(self):\n",
    "        if self.current <= 0:\n",
    "            raise StopIteration\n",
    "        else:\n",
    "            self.current -= 1\n",
    "            return self.current"
   ]
  },
  {
   "cell_type": "code",
   "execution_count": 8,
   "id": "5ee17528",
   "metadata": {},
   "outputs": [
    {
     "name": "stdout",
     "output_type": "stream",
     "text": [
      "4\n",
      "3\n",
      "2\n",
      "1\n",
      "0\n"
     ]
    }
   ],
   "source": [
    "for number in Countdown(5):\n",
    "    print(number)"
   ]
  },
  {
   "cell_type": "code",
   "execution_count": 12,
   "id": "d50a5518",
   "metadata": {},
   "outputs": [],
   "source": [
    "# custom iterable class\n",
    "class MyRange:\n",
    "    def __init__(self, start, end):\n",
    "        self.current = start\n",
    "        self.end = end\n",
    "\n",
    "    def __iter__(self):\n",
    "        return self\n",
    "\n",
    "    def __next__(self):\n",
    "        if self.current >= self.end:\n",
    "            raise StopIteration\n",
    "        else:\n",
    "            self.current += 1\n",
    "            return self.current - 1\n",
    "\n",
    "# Test\n",
    "# for number in MyRange(1, 5):\n",
    "#     print(number)"
   ]
  },
  {
   "cell_type": "code",
   "execution_count": 13,
   "id": "8e24a3c9",
   "metadata": {},
   "outputs": [
    {
     "name": "stdout",
     "output_type": "stream",
     "text": [
      "1\n",
      "2\n",
      "3\n",
      "4\n"
     ]
    }
   ],
   "source": [
    "for number in MyRange(1,5):\n",
    "    print(number)"
   ]
  }
 ],
 "metadata": {
  "kernelspec": {
   "display_name": "base",
   "language": "python",
   "name": "python3"
  },
  "language_info": {
   "codemirror_mode": {
    "name": "ipython",
    "version": 3
   },
   "file_extension": ".py",
   "mimetype": "text/x-python",
   "name": "python",
   "nbconvert_exporter": "python",
   "pygments_lexer": "ipython3",
   "version": "3.13.5"
  }
 },
 "nbformat": 4,
 "nbformat_minor": 5
}
