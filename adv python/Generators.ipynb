{
 "cells": [
  {
   "cell_type": "markdown",
   "id": "35845284",
   "metadata": {},
   "source": [
    "# Generators\n",
    "Generators provide a simple way to create iterators by using the yield keyword to produce a series of values lazily"
   ]
  },
  {
   "cell_type": "code",
   "execution_count": null,
   "id": "a3a5903b",
   "metadata": {},
   "outputs": [
    {
     "name": "stdout",
     "output_type": "stream",
     "text": [
      "[1, 2, 3]\n",
      "1\n",
      "2\n",
      "3\n"
     ]
    }
   ],
   "source": [
    "def normal_number():  # return all the numbers at once or at the same time \n",
    "    return [1,2,3]\n",
    "\n",
    "def generator_number():  # Generator function yields numbers one by one\n",
    "    yield 1\n",
    "    yield 2\n",
    "    yield 3\n",
    "\n",
    "print(normal_number())\n",
    "\n",
    "gen=generator_number()\n",
    "\n",
    "print(next(gen))\n",
    "print(next(gen))\n",
    "print(next(gen))"
   ]
  },
  {
   "cell_type": "code",
   "execution_count": null,
   "id": "9acc2c3b",
   "metadata": {},
   "outputs": [
    {
     "name": "stdout",
     "output_type": "stream",
     "text": [
      "1\n",
      "2\n",
      "3\n",
      "4\n",
      "5\n"
     ]
    }
   ],
   "source": [
    "# why using generators => They save memory and are useful for working with large datasets\n",
    "\n",
    "def count_up_to(n):\n",
    "    count = 1\n",
    "    while count <= n:\n",
    "        yield count\n",
    "        count += 1\n",
    "\n",
    "for num in count_up_to(5):      \n",
    "    print(num)                  # Here, numbers are produced on demand, not stored in a big list."
   ]
  },
  {
   "cell_type": "code",
   "execution_count": 27,
   "id": "d049d7b5",
   "metadata": {},
   "outputs": [
    {
     "name": "stdout",
     "output_type": "stream",
     "text": [
      "[0, 1, 4, 9, 16]\n",
      "0\n",
      "1\n",
      "4\n"
     ]
    }
   ],
   "source": [
    "# generator expressions\n",
    "\n",
    "# list comprehension\n",
    "num_list=[x * x for x in range(5)]\n",
    "print(num_list)\n",
    "\n",
    "\n",
    "# Generator expression\n",
    "num_gen = (x * x for x in range(5))\n",
    "print(next(num_gen))\n",
    "print(next(num_gen))\n",
    "print(next(num_gen))"
   ]
  },
  {
   "cell_type": "code",
   "execution_count": null,
   "id": "5b215b53",
   "metadata": {},
   "outputs": [
    {
     "name": "stdout",
     "output_type": "stream",
     "text": [
      "Nature, in its boundless entirety, encompasses all things living and non-living, from the smallest microbe to the largest galaxy. It is the source of our sustenance, providing us with the air we breathe, the water we drink, and the food we eat. The beauty of nature inspires awe and wonder, offering a constant source of peace and rejuvenation. From the towering mountains to the vast oceans, and from the vibrant forests to the serene deserts, nature's diversity is breathtaking.\n",
      "Mount Everest, the world's highest peak, is located in the Himalayas, on the border between Nepal and Tibet.\n",
      "Nature, in its boundless entirety, encompasses all things living and non-living, from the smallest microbe to the largest galaxy. It is the source of our sustenance, providing us with the air we breathe, the water we drink, and the food we eat. The beauty of nature inspires awe and wonder, offering a constant source of peace and rejuvenation. From the towering mountains to the vast oceans, and from the vibrant forests to the serene deserts, nature's diversity is breathtaking.\n",
      "Mount Everest, the world's highest peak, is located in the Himalayas, on the border between Nepal and Tibet.\n"
     ]
    }
   ],
   "source": [
    "# Real world example :\n",
    "\n",
    "# reading large file \n",
    "\n",
    "def read_large_file(file_path):\n",
    "    with open(file_path,'r') as file:\n",
    "        for line in file:\n",
    "            yield line.strip()\n",
    "for line in read_large_file(\"nature.txt\"):\n",
    "    print(line)\n",
    "\n",
    "'''\n",
    "->The generator does yield one line at a time.\n",
    "->But your loop will still go through all lines in sequence until the file ends.\n",
    "->So yes, it eventually prints the entire file — just not all at once.\n",
    "\n",
    "The difference is memory usage:\n",
    "    =>Without a generator → loads all lines into memory first.\n",
    "    =>With a generator → loads one line, processes it, then loads the next.\n",
    "'''\n",
    "\n",
    "# Here you control when to get the next line.\n",
    "\n",
    "gen = read_large_file(\"nature.txt\")\n",
    "print(next(gen)) # prints first line or point\n",
    "print(next(gen)) # prints second\n"
   ]
  }
 ],
 "metadata": {
  "kernelspec": {
   "display_name": "base",
   "language": "python",
   "name": "python3"
  },
  "language_info": {
   "codemirror_mode": {
    "name": "ipython",
    "version": 3
   },
   "file_extension": ".py",
   "mimetype": "text/x-python",
   "name": "python",
   "nbconvert_exporter": "python",
   "pygments_lexer": "ipython3",
   "version": "3.13.5"
  }
 },
 "nbformat": 4,
 "nbformat_minor": 5
}
