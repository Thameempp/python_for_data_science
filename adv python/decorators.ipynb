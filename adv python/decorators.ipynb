{
 "cells": [
  {
   "cell_type": "markdown",
   "id": "93beca29",
   "metadata": {},
   "source": [
    "# Decorators \n",
    ": A function that extends the behavior of another function (base) without modifying the base function"
   ]
  },
  {
   "cell_type": "code",
   "execution_count": null,
   "id": "c31e6c6b",
   "metadata": {},
   "outputs": [],
   "source": [
    "# Decorators\n",
    "\n",
    "def main_welcome(func):\n",
    "    def sub_welcome_method():\n",
    "        print(\"welcome to decorators in python\")\n",
    "        func()\n",
    "        print(\"practice decorators\")\n",
    "    return sub_welcome_method()\n",
    "\n"
   ]
  },
  {
   "cell_type": "code",
   "execution_count": null,
   "id": "08ee563a",
   "metadata": {},
   "outputs": [
    {
     "name": "stdout",
     "output_type": "stream",
     "text": [
      "This is an advanced python course\n"
     ]
    }
   ],
   "source": [
    "def decorators_intro():\n",
    "    print(\"This is an advanced python topic\")\n",
    "\n",
    "decorators_intro()"
   ]
  },
  {
   "cell_type": "code",
   "execution_count": null,
   "id": "86a38af3",
   "metadata": {},
   "outputs": [
    {
     "name": "stdout",
     "output_type": "stream",
     "text": [
      "welcome to decorators in python\n",
      "This is an advanced python course\n",
      "practice decorators\n"
     ]
    }
   ],
   "source": [
    "main_welcome(decorators_intro)"
   ]
  },
  {
   "cell_type": "code",
   "execution_count": null,
   "id": "0db6a365",
   "metadata": {},
   "outputs": [
    {
     "name": "stdout",
     "output_type": "stream",
     "text": [
      "welcome to decorators in python\n",
      "This is an advanced python topic\n",
      "practice decorators\n"
     ]
    }
   ],
   "source": [
    "@main_welcome\n",
    "def decorators_intro():       # by doing this -> decorators_intro function is going to main_welcome function as parameter.\n",
    "    print(\"This is an advanced python topic\")\n"
   ]
  },
  {
   "cell_type": "markdown",
   "id": "bd47fb73",
   "metadata": {},
   "source": [
    "### Using Decorators : we can add extra features to an existing function."
   ]
  },
  {
   "cell_type": "code",
   "execution_count": null,
   "id": "331cd3df",
   "metadata": {},
   "outputs": [],
   "source": [
    "# Example : when we divde 2 number , when dinominator > numarator it should swap dinominator <-> numarator\n"
   ]
  },
  {
   "cell_type": "code",
   "execution_count": null,
   "id": "7acfb2b4",
   "metadata": {},
   "outputs": [],
   "source": [
    "def div(a,b):\n",
    "    print(a/b)"
   ]
  },
  {
   "cell_type": "code",
   "execution_count": null,
   "id": "ef66def9",
   "metadata": {},
   "outputs": [
    {
     "name": "stdout",
     "output_type": "stream",
     "text": [
      "2.0\n",
      "0.5\n"
     ]
    }
   ],
   "source": [
    "div(6,3)\n",
    "div(3,6) # i need to swap 3 <-> 6"
   ]
  },
  {
   "cell_type": "code",
   "execution_count": null,
   "id": "3758f6e1",
   "metadata": {},
   "outputs": [],
   "source": [
    "def swaping_div(func):\n",
    "    def sub(a,b):\n",
    "        if a<b :\n",
    "            print(\"here , dinominator > numerator\")\n",
    "            numerator = a\n",
    "            dinominator = b\n",
    "            print(f\"swaping ;  {numerator} <-> {dinominator}\")\n",
    "            a,b = b,a\n",
    "        return func(a,b)\n",
    "    return sub\n",
    "\n",
    "div = swaping_div(div)"
   ]
  },
  {
   "cell_type": "code",
   "execution_count": null,
   "id": "565e5c6c",
   "metadata": {},
   "outputs": [
    {
     "name": "stdout",
     "output_type": "stream",
     "text": [
      "here , dinominator > numerator\n",
      "swaping ;  3 <-> 6\n",
      "2.0\n"
     ]
    }
   ],
   "source": [
    "div(3,6)  # so we swaped the numerator,dinominator without changing the div function."
   ]
  },
  {
   "cell_type": "code",
   "execution_count": 17,
   "id": "916ceb85",
   "metadata": {},
   "outputs": [],
   "source": [
    "def repeat(n):\n",
    "    def decorator(func):\n",
    "        def word(*args, **kwargs):\n",
    "            for _ in range(n):\n",
    "                func(*args, **kwargs)\n",
    "        return word\n",
    "    return decorator"
   ]
  },
  {
   "cell_type": "code",
   "execution_count": 21,
   "id": "9fd0373e",
   "metadata": {},
   "outputs": [],
   "source": [
    "@repeat(4)\n",
    "def say_Hi():\n",
    "    print(\"Hi\")"
   ]
  },
  {
   "cell_type": "code",
   "execution_count": 22,
   "id": "395891c1",
   "metadata": {},
   "outputs": [
    {
     "name": "stdout",
     "output_type": "stream",
     "text": [
      "Hi\n",
      "Hi\n",
      "Hi\n",
      "Hi\n"
     ]
    }
   ],
   "source": [
    "say_Hi()"
   ]
  }
 ],
 "metadata": {
  "kernelspec": {
   "display_name": "base",
   "language": "python",
   "name": "python3"
  },
  "language_info": {
   "codemirror_mode": {
    "name": "ipython",
    "version": 3
   },
   "file_extension": ".py",
   "mimetype": "text/x-python",
   "name": "python",
   "nbconvert_exporter": "python",
   "pygments_lexer": "ipython3",
   "version": "3.13.5"
  }
 },
 "nbformat": 4,
 "nbformat_minor": 5
}
