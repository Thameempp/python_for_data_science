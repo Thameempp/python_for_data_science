{
 "cells": [
  {
   "cell_type": "code",
   "execution_count": null,
   "id": "831fff7b",
   "metadata": {},
   "outputs": [],
   "source": [
    "#   Abstraction is the concept of hiding the complex implementation details and showing only the necessary features of an object. This helps in reducing programming complexity and effort."
   ]
  },
  {
   "cell_type": "code",
   "execution_count": 3,
   "id": "aad4a3ec",
   "metadata": {},
   "outputs": [
    {
     "name": "stdout",
     "output_type": "stream",
     "text": [
      "Car engine started\n",
      "The vehicle used for transportaion \n",
      "Bike engine started\n",
      "The vehicle used for transportaion \n"
     ]
    }
   ],
   "source": [
    "from abc import ABC,abstractmethod\n",
    "\n",
    "# base class :        The original class that other classes inherit from\n",
    "class vehicle(ABC):\n",
    "    def drive(self):\n",
    "        print(\"The vehicle used for transportaion \")\n",
    "\n",
    "    @abstractmethod            \n",
    "    def start_engine(self):\n",
    "        pass                    # a Vehicle class may define an abstract method start_engine(), but each subclass like Car or Bike     ------------------------  will provide its own version of how to start the engine.  ---------------------------------------\n",
    "\n",
    "# Derived class or Child class : Takes all the features (methods and attributes) from a parent class and can also add or change some of them.\n",
    "class Car(vehicle):\n",
    "    def start_engine(self):\n",
    "        print(\"Car engine started\")\n",
    "\n",
    "class Bike(vehicle):\n",
    "    def start_engine(self):\n",
    "        print(\"Bike engine started\")\n",
    "\n",
    "def operate_vehicle(vehicle):\n",
    "    vehicle.start_engine()\n",
    "    vehicle.drive()\n",
    "\n",
    "car=Car()\n",
    "operate_vehicle(car)\n",
    "bike=Bike()\n",
    "operate_vehicle(bike)"
   ]
  },
  {
   "cell_type": "code",
   "execution_count": null,
   "id": "460a5261",
   "metadata": {},
   "outputs": [],
   "source": []
  }
 ],
 "metadata": {
  "kernelspec": {
   "display_name": "base",
   "language": "python",
   "name": "python3"
  },
  "language_info": {
   "codemirror_mode": {
    "name": "ipython",
    "version": 3
   },
   "file_extension": ".py",
   "mimetype": "text/x-python",
   "name": "python",
   "nbconvert_exporter": "python",
   "pygments_lexer": "ipython3",
   "version": "3.13.5"
  }
 },
 "nbformat": 4,
 "nbformat_minor": 5
}
