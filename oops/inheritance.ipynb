{
 "cells": [
  {
   "cell_type": "code",
   "execution_count": null,
   "id": "3b1cc6d7",
   "metadata": {},
   "outputs": [
    {
     "name": "stdout",
     "output_type": "stream",
     "text": [
      "The person will drive the 4 seated diesel car \n"
     ]
    }
   ],
   "source": [
    " # Inheritance : allows a class to inherit attributes and methods from another class.\n",
    "\n",
    "# Single inheritance\n",
    "# parent class\n",
    "class car:\n",
    "    def __init__(self,seats,doors,enginetype):\n",
    "        self.seats=seats\n",
    "        self.doors=doors\n",
    "        self.enginetype=enginetype\n",
    "\n",
    "    def drive(self):\n",
    "        print(f\"The person will drive the {self.seats} seated {self.enginetype} car \")\n",
    "\n",
    "car1=car(4,2,'diesel')\n",
    "car1.drive()\n"
   ]
  },
  {
   "cell_type": "code",
   "execution_count": 17,
   "id": "328ebe02",
   "metadata": {},
   "outputs": [
    {
     "name": "stdout",
     "output_type": "stream",
     "text": [
      "The person will drive the electric car. \n",
      "Tesla is an electric car: True\n",
      "Tesla have self driving feature. \n"
     ]
    }
   ],
   "source": [
    "class Tesla(car):        # inherited from car class \n",
    "    def __init__(self,seats,windows,enginetype,is_electric,is_selfdriving):\n",
    "        super().__init__(seats,windows,enginetype)\n",
    "        self.is_electric=is_electric\n",
    "        self.is_selfdriving=is_selfdriving\n",
    "    def drive(self):\n",
    "        print(f\"The person will drive the {self.enginetype} car. \")\n",
    "    \n",
    "    def electric(self):\n",
    "        print(f\"Tesla is an electric car: {self.is_electric}\")\n",
    "    \n",
    "    def selfdriving(self):\n",
    "        print(f\"Tesla have {self.is_selfdriving} feature. \")\n",
    "\n",
    "tesla=Tesla(4,4,'electric',True,'self driving')\n",
    "tesla.drive()\n",
    "tesla.electric()\n",
    "tesla.selfdriving()"
   ]
  },
  {
   "cell_type": "code",
   "execution_count": 24,
   "id": "23142549",
   "metadata": {},
   "outputs": [
    {
     "name": "stdout",
     "output_type": "stream",
     "text": [
      "poopy say woof\n",
      "owner: Kevin\n"
     ]
    }
   ],
   "source": [
    "# Multiple inheritance : A class can inherit from more than one Base or parent class.\n",
    "\n",
    "# Base class 1 \n",
    "class Animal:\n",
    "    def __init__(self,name):\n",
    "        self.name=name\n",
    "    def speak(self):\n",
    "        print(\"subclass must implement this method\")\n",
    "\n",
    "# Base class 2\n",
    "class pet:\n",
    "    def __init__(self,owner):\n",
    "        self.owner=owner\n",
    "# Derived class\n",
    "class Dog(Animal,pet):\n",
    "    def __init__(self,name,owner):\n",
    "        Animal.__init__(self,name)\n",
    "        pet.__init__(self,owner)\n",
    "\n",
    "    def speak(self):\n",
    "        return f\"{self.name} say woof\"\n",
    "# Create an object\n",
    "\n",
    "dog11=Dog(\"poopy\",\"Kevin\")\n",
    "print(dog11.speak())\n",
    "\n",
    "print(f\"owner: {dog11.owner}\")\n",
    "\n"
   ]
  }
 ],
 "metadata": {
  "kernelspec": {
   "display_name": "base",
   "language": "python",
   "name": "python3"
  },
  "language_info": {
   "codemirror_mode": {
    "name": "ipython",
    "version": 3
   },
   "file_extension": ".py",
   "mimetype": "text/x-python",
   "name": "python",
   "nbconvert_exporter": "python",
   "pygments_lexer": "ipython3",
   "version": "3.13.5"
  }
 },
 "nbformat": 4,
 "nbformat_minor": 5
}
