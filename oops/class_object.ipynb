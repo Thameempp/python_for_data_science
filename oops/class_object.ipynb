{
 "cells": [
  {
   "cell_type": "code",
   "execution_count": null,
   "id": "ba7ffccd",
   "metadata": {},
   "outputs": [],
   "source": [
    "'''\n",
    "A CLASS is like a blueprint or template.\n",
    " - It defines what something is and what it can do.\n",
    " - It contains attributes (data) and methods (functions).\n",
    " - But it doesnt hold actual data until you create an object from it.  '''\n",
    "\n",
    "'''\n",
    "An OBJECT is a real thing created using the class.\n",
    " - Its like making a real car from the blueprint.\n",
    " - It has actual values for the attributes.\n",
    " - You can create many objects from one class.\n",
    "\n",
    "'''\n",
    "'''\n",
    "class Car: → defines the blueprint.\n",
    "__init__ → is the constructor that sets up object data.\n",
    "self.brand and self.color → are attributes.\n",
    "drive() → is a method.\n",
    "car1 and car2 → are objects created using the class.'''\n"
   ]
  },
  {
   "cell_type": "code",
   "execution_count": null,
   "id": "5afeaced",
   "metadata": {},
   "outputs": [
    {
     "name": "stdout",
     "output_type": "stream",
     "text": [
      "The white TOYOTA is driving.\n",
      "The blue BMW is driving.\n"
     ]
    }
   ],
   "source": [
    "# Class and object\n",
    "\n",
    "class car:\n",
    "    def __init__(self,brand,color):   # constructor to initialize object\n",
    "        self.brand=brand\n",
    "        self.color=color\n",
    "\n",
    "    def drive(self):          # method(function inside class)\n",
    "        print(f\"The {self.color} {self.brand} is driving.\")\n",
    "# creating object (instances) from the class\n",
    "car1=car(\"TOYOTA\",\"white\")\n",
    "car2=car(\"BMW\",\"blue\")\n",
    "# using the object\n",
    "car1.drive()\n",
    "car2.drive()"
   ]
  },
  {
   "cell_type": "code",
   "execution_count": 37,
   "id": "d501b9c7",
   "metadata": {},
   "outputs": [
    {
     "name": "stdout",
     "output_type": "stream",
     "text": [
      "<__main__.dog object at 0x1067a6a50>\n",
      "Buddy\n",
      "3\n"
     ]
    }
   ],
   "source": [
    "# Instance Variable and Methods\n",
    "class dog:\n",
    "    ## constructor \n",
    "    def __init__(self,name,age):\n",
    "        self.name=name\n",
    "        self.age=age\n",
    "## Create object\n",
    "dog1=dog(\"Buddy\",3)\n",
    "print(dog1)\n",
    "print(dog1.name)\n",
    "print(dog1.age)"
   ]
  },
  {
   "cell_type": "code",
   "execution_count": 38,
   "id": "36e15323",
   "metadata": {},
   "outputs": [
    {
     "name": "stdout",
     "output_type": "stream",
     "text": [
      "Luca\n",
      "2\n"
     ]
    }
   ],
   "source": [
    "dog2=dog(\"Luca\",2)\n",
    "print(dog2.name)\n",
    "print(dog2.age)"
   ]
  },
  {
   "cell_type": "code",
   "execution_count": 44,
   "id": "eb0b3a26",
   "metadata": {},
   "outputs": [
    {
     "name": "stdout",
     "output_type": "stream",
     "text": [
      "poopy says meow\n",
      "luffy says meow\n",
      "1\n",
      "4\n"
     ]
    }
   ],
   "source": [
    "# Define a class with instance methods\n",
    "class cat:\n",
    "    def __init__(self,name,age):\n",
    "        self.name=name\n",
    "        self.age=age\n",
    "    def meow(self):\n",
    "        print(f\"{self.name} says meow\")\n",
    "\n",
    "cat1=cat(\"poopy\",1)\n",
    "cat1.meow()\n",
    "cat2=cat(\"luffy\",4)\n",
    "cat2.meow()\n",
    "print(cat1.age)\n",
    "print(cat2.age)"
   ]
  },
  {
   "cell_type": "code",
   "execution_count": 36,
   "id": "e10f3d8b",
   "metadata": {},
   "outputs": [
    {
     "name": "stdout",
     "output_type": "stream",
     "text": [
      "Account Balance : \u001b[1;40;33m97000\u001b[0m\n",
      "\u001b[1;32m100\u001b[0m is deposited.\n",
      "New balance is \u001b[1;40;33m97100\u001b[0m\n",
      "\u001b[1;31m50\u001b[0m is withdrawn.\n",
      "New balance is \u001b[1;40;33m97050\u001b[0m\n"
     ]
    }
   ],
   "source": [
    "# Modeling a bank account \n",
    "# Define a class for bank account \n",
    "class BankAccount:\n",
    "    def __init__(self,owner,Balance=0):\n",
    "        self.owner=owner\n",
    "        self.Balance=Balance\n",
    "    def deposit(self,amount):\n",
    "        self.Balance+=amount\n",
    "        print(f\"\\033[1;32m{amount}\\033[0m is deposited.\\nNew balance is \\033[1;40;33m{self.Balance}\\033[0m\")\n",
    "    def withdraw(self,amount):\n",
    "        if amount>self.Balance:\n",
    "            print(\"Insufficient fund!\")\n",
    "        else:\n",
    "            self.Balance-=amount\n",
    "            print(f\"\\033[1;31m{amount}\\033[0m is withdrawn.\\nNew balance is \\033[1;40;33m{self.Balance}\\033[0m\")\n",
    "    def balance(self):\n",
    "        return self.Balance\n",
    "account=BankAccount(\"Thameem\",97000)\n",
    "print(f\"Account Balance : \\033[1;40;33m{account.Balance}\\033[0m\")\n",
    "account.deposit(int(input(\"Enter deposit amount:  \")))\n",
    "account.withdraw(int(input(\"Enter withdraw amount: \")))\n",
    "\n",
    "\n"
   ]
  },
  {
   "cell_type": "code",
   "execution_count": null,
   "id": "3d76e574",
   "metadata": {},
   "outputs": [
    {
     "name": "stdout",
     "output_type": "stream",
     "text": [
      "\u001b[1;32m100\u001b[0m is deposited.\n",
      "New balance is \u001b[1;40;33m97150\u001b[0m\n"
     ]
    }
   ],
   "source": [
    "# call instance method\n",
    "account.deposit(100)"
   ]
  },
  {
   "cell_type": "code",
   "execution_count": 46,
   "id": "dddaf77b",
   "metadata": {},
   "outputs": [
    {
     "name": "stdout",
     "output_type": "stream",
     "text": [
      "\u001b[1;31m400\u001b[0m is withdrawn.\n",
      "New balance is \u001b[1;40;33m96750\u001b[0m\n"
     ]
    }
   ],
   "source": [
    "account.withdraw(400)"
   ]
  },
  {
   "cell_type": "code",
   "execution_count": 48,
   "id": "10b7b088",
   "metadata": {},
   "outputs": [
    {
     "name": "stdout",
     "output_type": "stream",
     "text": [
      "96750\n"
     ]
    }
   ],
   "source": [
    "print(account.balance())"
   ]
  }
 ],
 "metadata": {
  "kernelspec": {
   "display_name": "base",
   "language": "python",
   "name": "python3"
  },
  "language_info": {
   "codemirror_mode": {
    "name": "ipython",
    "version": 3
   },
   "file_extension": ".py",
   "mimetype": "text/x-python",
   "name": "python",
   "nbconvert_exporter": "python",
   "pygments_lexer": "ipython3",
   "version": "3.13.5"
  }
 },
 "nbformat": 4,
 "nbformat_minor": 5
}
