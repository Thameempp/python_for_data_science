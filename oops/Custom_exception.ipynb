{
 "cells": [
  {
   "cell_type": "code",
   "execution_count": null,
   "id": "3ac0fd6a",
   "metadata": {},
   "outputs": [],
   "source": [
    "# Custom exception handling\n",
    "\n",
    "# => Custom Exception Handling means creating your own error classes in Python when the built‑in exceptions (like ValueError or TypeError) are not enough for your use case.\n",
    "\n",
    "# Example:  In an ATM program, if someone tries to withdraw more money than they have, you raise a InsufficientBalanceError instead of just a generic Python error."
   ]
  },
  {
   "cell_type": "code",
   "execution_count": 1,
   "id": "68a8ef80",
   "metadata": {},
   "outputs": [],
   "source": [
    "class Error(Exception):\n",
    "    pass\n",
    "class dobException(Error):\n",
    "    pass"
   ]
  },
  {
   "cell_type": "code",
   "execution_count": 11,
   "id": "c10cb982",
   "metadata": {},
   "outputs": [
    {
     "name": "stdout",
     "output_type": "stream",
     "text": [
      "sorry, you are not eligible this year, But you can appear next year (when u are 17)\n"
     ]
    }
   ],
   "source": [
    "year=int(input(\"Enter your date of birth year : \"))\n",
    "age=2025-year\n",
    "try:\n",
    "    if age >16 and age<20:\n",
    "        print(\"Age is valid, You are eligibe for the exam :) \")\n",
    "    elif age==20 :\n",
    "        print(\"By your age this is the final time you can appear for this exam, All the best.\")\n",
    "    elif age==16:\n",
    "        print(\"sorry, you are not eligible this year, But you can appear next year (when u are 17)\")\n",
    "    else:\n",
    "        raise dobException\n",
    "except dobException:\n",
    "    print(\"Sorry,You are not eligigble for the exam by age .\")"
   ]
  }
 ],
 "metadata": {
  "kernelspec": {
   "display_name": "base",
   "language": "python",
   "name": "python3"
  },
  "language_info": {
   "codemirror_mode": {
    "name": "ipython",
    "version": 3
   },
   "file_extension": ".py",
   "mimetype": "text/x-python",
   "name": "python",
   "nbconvert_exporter": "python",
   "pygments_lexer": "ipython3",
   "version": "3.13.5"
  }
 },
 "nbformat": 4,
 "nbformat_minor": 5
}
