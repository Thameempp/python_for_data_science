{
 "cells": [
  {
   "cell_type": "code",
   "execution_count": null,
   "id": "13c6d733",
   "metadata": {},
   "outputs": [],
   "source": [
    "\n",
    "# Magic methods (also called dunder methods) are special methods with double underscores\n",
    "# - magic methods let you customize how your objects behave with built-in Python features.           or \n",
    "#. Dunder methods let you control how your objects behave with built‑in Python functions and operators."
   ]
  },
  {
   "cell_type": "code",
   "execution_count": null,
   "id": "2d1b15fc",
   "metadata": {},
   "outputs": [],
   "source": [
    "'''\n",
    "__init__': Initializes a new instance of a class.\n",
    "__str__: Returns a string representation of an object.\n",
    "__repr__: Returns an official string representation of an object.\n",
    "__len__: Returns the length of an object.\n",
    "__getitem__: Gets an item from a container.\n",
    "__setitem__: Sets an item in a container.\n",
    "'''"
   ]
  },
  {
   "cell_type": "code",
   "execution_count": 1,
   "id": "71172649",
   "metadata": {},
   "outputs": [
    {
     "name": "stdout",
     "output_type": "stream",
     "text": [
      "<__main__.Person object at 0x1082b0830>\n"
     ]
    }
   ],
   "source": [
    "class Person:\n",
    "    pass\n",
    "person=Person()\n",
    "print(person)"
   ]
  },
  {
   "cell_type": "code",
   "execution_count": 10,
   "id": "1ab006bc",
   "metadata": {},
   "outputs": [
    {
     "name": "stdout",
     "output_type": "stream",
     "text": [
      "kevin,34 years old.\n",
      "Person(name=kevin,age=34)\n"
     ]
    }
   ],
   "source": [
    "class Person:\n",
    "    def __init__(self,name,age):\n",
    "        self.name=name\n",
    "        self.age=age\n",
    "\n",
    "    def __str__(self):\n",
    "        return f\"{self.name},{self.age} years old.\"\n",
    "    def __repr__(self):\n",
    "        return f\"Person(name={self.name},age={self.age})\"\n",
    "\n",
    "person=Person(\"kevin\",34)\n",
    "print(person)\n",
    "print(repr(person))"
   ]
  },
  {
   "cell_type": "code",
   "execution_count": null,
   "id": "2e6f72e1",
   "metadata": {},
   "outputs": [
    {
     "name": "stdout",
     "output_type": "stream",
     "text": [
      "Banana\n",
      "The length of the word 'Banana' is : 6\n"
     ]
    }
   ],
   "source": [
    "class Fruit:\n",
    "    def __init__(self,name: str)-> None:\n",
    "        self.name = name\n",
    "    def __mul__(self,other: int)-> str:\n",
    "        return self.name * other\n",
    "    def __int__(self)-> int:\n",
    "        return len(self.name)\n",
    "    def __str__(self)-> str:  # or __repr__\n",
    "        return self.name\n",
    "word: Fruit = Fruit('Banana')\n",
    "print(word)\n",
    "print(f\"The length of the word '{word}' is : {int(word)}\")\n",
    "\n"
   ]
  },
  {
   "cell_type": "code",
   "execution_count": null,
   "id": "f44a6860",
   "metadata": {},
   "outputs": [],
   "source": []
  }
 ],
 "metadata": {
  "kernelspec": {
   "display_name": "base",
   "language": "python",
   "name": "python3"
  },
  "language_info": {
   "codemirror_mode": {
    "name": "ipython",
    "version": 3
   },
   "file_extension": ".py",
   "mimetype": "text/x-python",
   "name": "python",
   "nbconvert_exporter": "python",
   "pygments_lexer": "ipython3",
   "version": "3.13.5"
  }
 },
 "nbformat": 4,
 "nbformat_minor": 5
}
