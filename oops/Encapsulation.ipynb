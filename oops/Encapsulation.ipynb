{
 "cells": [
  {
   "cell_type": "markdown",
   "id": "52bc8e44",
   "metadata": {},
   "source": [
    "Encapsulation– \"Hide the data inside the box\"\n",
    "\n",
    "Encapsulation is the concept of wrapping data (variables) and methods (functions) together as a single unit. It restricts direct access to some of the object's components, which is a means of preventing accidental interference and misuse of the data."
   ]
  },
  {
   "cell_type": "markdown",
   "id": "caa56234",
   "metadata": {},
   "source": [
    "Abstraction – \"Show only what’s needed\"\n",
    "\n",
    "Abstraction means hiding complex internal details and showing only the necessary features to the user."
   ]
  },
  {
   "cell_type": "code",
   "execution_count": null,
   "id": "820a7a86",
   "metadata": {},
   "outputs": [
    {
     "name": "stdout",
     "output_type": "stream",
     "text": [
      "Thameem\n",
      "19\n"
     ]
    }
   ],
   "source": [
    "# Encapsulation \n",
    "\n",
    "#Public variable \n",
    "\n",
    "class Person:\n",
    "    def __init__(self,name,age):\n",
    "        self.name=name      #Public variable \n",
    "        self.age=age      \n",
    "\n",
    "def get_name(person):\n",
    "    return person.name\n",
    "def get_age(person):\n",
    "    return person.age\n",
    "\n",
    "person=Person(\"Thameem\",19)\n",
    "print(get_name(person))\n",
    "print(get_age(person))"
   ]
  },
  {
   "cell_type": "code",
   "execution_count": null,
   "id": "ce7d85d7",
   "metadata": {},
   "outputs": [
    {
     "data": {
      "text/plain": [
       "'john'"
      ]
     },
     "execution_count": 27,
     "metadata": {},
     "output_type": "execute_result"
    }
   ],
   "source": [
    "# Private variable\n",
    "\n",
    "class Man:\n",
    "    def __init__(self,name,age):\n",
    "        self.__name=name\n",
    "        self.__age=age\n",
    "def get_name(person):\n",
    "    return man._Man__name\n",
    "def get_age(person):\n",
    "    return man.age\n",
    "man=Man(\"john\",25)\n",
    "get_name(man)"
   ]
  },
  {
   "cell_type": "code",
   "execution_count": 26,
   "id": "742899e4",
   "metadata": {},
   "outputs": [
    {
     "data": {
      "text/plain": [
       "['_Man__age',\n",
       " '_Man__name',\n",
       " '__class__',\n",
       " '__delattr__',\n",
       " '__dict__',\n",
       " '__dir__',\n",
       " '__doc__',\n",
       " '__eq__',\n",
       " '__firstlineno__',\n",
       " '__format__',\n",
       " '__ge__',\n",
       " '__getattribute__',\n",
       " '__getstate__',\n",
       " '__gt__',\n",
       " '__hash__',\n",
       " '__init__',\n",
       " '__init_subclass__',\n",
       " '__le__',\n",
       " '__lt__',\n",
       " '__module__',\n",
       " '__ne__',\n",
       " '__new__',\n",
       " '__reduce__',\n",
       " '__reduce_ex__',\n",
       " '__repr__',\n",
       " '__setattr__',\n",
       " '__sizeof__',\n",
       " '__static_attributes__',\n",
       " '__str__',\n",
       " '__subclasshook__',\n",
       " '__weakref__']"
      ]
     },
     "execution_count": 26,
     "metadata": {},
     "output_type": "execute_result"
    }
   ],
   "source": [
    "dir(man)"
   ]
  },
  {
   "cell_type": "code",
   "execution_count": 61,
   "id": "3a511330",
   "metadata": {},
   "outputs": [
    {
     "name": "stdout",
     "output_type": "stream",
     "text": [
      "messi\n",
      "38\n"
     ]
    }
   ],
   "source": [
    "# Protected Variable. : Only its derived class able to  access it.\n",
    "\n",
    "class Person:\n",
    "    def __init__(self,name,age,gender):\n",
    "        self._name=name  #Protected variable\n",
    "        self._age=age   \n",
    "        self.gender=gender\n",
    "\n",
    "class Employee(Person):\n",
    "    def __init__(self,name,age,gender):\n",
    "        super().__init__(name,age,gender)\n",
    "\n",
    "employee=Employee(\"messi\",38,'Male')    # Creating an object \n",
    "print(employee._name)\n",
    "print(employee._age)"
   ]
  },
  {
   "cell_type": "code",
   "execution_count": 58,
   "id": "ddacce12",
   "metadata": {},
   "outputs": [
    {
     "name": "stdout",
     "output_type": "stream",
     "text": [
      "Thameem\n",
      "25\n",
      "26\n",
      "Age cannot be negative.\n"
     ]
    }
   ],
   "source": [
    "# Encapsulation with gettle and settle method\n",
    "# Accessing protected variable using getter and settle method \n",
    "\n",
    "class Person:\n",
    "    def __init__(self,name,age):\n",
    "        self.__name=name\n",
    "        self.__age=age\n",
    "    # Getter method for name \n",
    "    def get_name(self):\n",
    "        return self.__name\n",
    "    # Setter method for name\n",
    "    def set_name(self,name):\n",
    "        self.__name=name\n",
    "    # Getter Method for age\n",
    "    def get_age(self):\n",
    "        return self.__age\n",
    "    # Setter method for age\n",
    "    def set_age(self,age):\n",
    "        if age>0:\n",
    "            self.__age=age\n",
    "        else:\n",
    "            print(\"Age cannot be negative.\")\n",
    "\n",
    "getname=Person(\"Thameem\",25)\n",
    "\n",
    "# Access private variable using getter and setter method\n",
    "\n",
    "print(getname.get_name())\n",
    "print(getname.get_age())\n",
    "\n",
    "getname.set_age(26)\n",
    "print(getname.get_age())\n",
    "\n",
    "getname.set_age(-6)"
   ]
  },
  {
   "cell_type": "code",
   "execution_count": null,
   "id": "7682c239",
   "metadata": {},
   "outputs": [],
   "source": []
  }
 ],
 "metadata": {
  "kernelspec": {
   "display_name": "base",
   "language": "python",
   "name": "python3"
  },
  "language_info": {
   "codemirror_mode": {
    "name": "ipython",
    "version": 3
   },
   "file_extension": ".py",
   "mimetype": "text/x-python",
   "name": "python",
   "nbconvert_exporter": "python",
   "pygments_lexer": "ipython3",
   "version": "3.13.5"
  }
 },
 "nbformat": 4,
 "nbformat_minor": 5
}
