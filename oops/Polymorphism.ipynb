{
 "cells": [
  {
   "cell_type": "code",
   "execution_count": null,
   "id": "625f94f6",
   "metadata": {},
   "outputs": [],
   "source": [
    "# Polymorphism lets you write one function or method that works with different types of objects, and each object responds in its own way."
   ]
  },
  {
   "cell_type": "code",
   "execution_count": null,
   "id": "a140ce6d",
   "metadata": {},
   "outputs": [
    {
     "name": "stdout",
     "output_type": "stream",
     "text": [
      " woof \n",
      " Meow \n",
      " woof \n"
     ]
    }
   ],
   "source": [
    "# Method overriding \n",
    "\n",
    "# Base class\n",
    "class Animal:\n",
    "    def speak (self):\n",
    "        return \" sound of the animal \"\n",
    "\n",
    "# Derived class 1\n",
    "class Dog(Animal):\n",
    "    def speak(self):\n",
    "        return \" woof \"\n",
    "\n",
    "# Derived class 2\n",
    "\n",
    "class Cat(Animal):\n",
    "    def speak(self):\n",
    "        return \" Meow \"\n",
    "    \n",
    "def animal_speak(animal):\n",
    "    print(animal.speak())\n",
    "\n",
    "dog =Dog()\n",
    "cat =Cat()\n",
    "print(dog.speak())\n",
    "print(cat.speak())\n",
    "animal_speak(dog)"
   ]
  },
  {
   "cell_type": "code",
   "execution_count": 18,
   "id": "39f33bc6",
   "metadata": {},
   "outputs": [
    {
     "name": "stdout",
     "output_type": "stream",
     "text": [
      "the area is 12\n",
      "the area is 28.259999999999998\n"
     ]
    }
   ],
   "source": [
    "# Polymorphism with function and method \n",
    "# base class \n",
    "class shape:\n",
    "    def area(self):\n",
    "        return \" The area of the figure\"\n",
    "\n",
    "# derived class 1    \n",
    "class Rectangle(shape):\n",
    "    def __init__(self,height,width):\n",
    "     self.height=height\n",
    "     self.width=width\n",
    "    \n",
    "    def area(self):\n",
    "       return self.width * self.height\n",
    "    \n",
    "# derived class 2 \n",
    "class Circle(shape):\n",
    "    def __init__(self,radius):\n",
    "      self.radius=radius\n",
    "    \n",
    "    def area(self):\n",
    "         return 3.14*self.radius*self.radius\n",
    "\n",
    "# Function that demontrates polymorphisn\n",
    "def print_area(figure):\n",
    "  \n",
    "  print(f\"the area is {figure.area()}\")\n",
    "\n",
    "\n",
    "rectangle= Rectangle(3,4)\n",
    "print_area(rectangle)\n",
    "\n",
    "circle=Circle(3)\n",
    "print_area(circle)\n",
    "\n",
    "    \n",
    "\n"
   ]
  },
  {
   "cell_type": "code",
   "execution_count": 15,
   "id": "53211b0b",
   "metadata": {},
   "outputs": [],
   "source": [
    "# Polymorphism with abstract base classes \n",
    "from abc import ABC,abstractmethod\n",
    "\n",
    "class vehicle(ABC):\n",
    "    @abstractmethod\n",
    "    def start_engine(self):\n",
    "       pass\n",
    "# Derived class 1\n",
    "class Car(vehicle):\n",
    "   def start_engine(self):\n",
    "      return \" car enginer started\"\n",
    "# Derived class 2\n",
    "class Motorcycle(vehicle):\n",
    "   def start_engine(self):\n",
    "      return  \"Motorcycle engine started\"\n",
    "   \n",
    "# Function that demontrates polymorphism\n",
    "def start_vehicle(vehicle):\n",
    "   print(vehicle.start_engine())\n",
    "\n",
    "   # Create objects for car and motorcyle\n",
    "\n",
    "   car =Car()\n",
    "   motorcycle =Motorcycle()\n",
    "\n",
    "   start_vehicle(car)\n",
    "   \n"
   ]
  },
  {
   "cell_type": "code",
   "execution_count": null,
   "id": "a94bfa7b",
   "metadata": {},
   "outputs": [],
   "source": []
  }
 ],
 "metadata": {
  "kernelspec": {
   "display_name": "base",
   "language": "python",
   "name": "python3"
  },
  "language_info": {
   "codemirror_mode": {
    "name": "ipython",
    "version": 3
   },
   "file_extension": ".py",
   "mimetype": "text/x-python",
   "name": "python",
   "nbconvert_exporter": "python",
   "pygments_lexer": "ipython3",
   "version": "3.13.5"
  }
 },
 "nbformat": 4,
 "nbformat_minor": 5
}
