{
 "cells": [
  {
   "cell_type": "code",
   "execution_count": null,
   "id": "01d31ba1",
   "metadata": {},
   "outputs": [],
   "source": [
    "# Operator overloading \n",
    "# operation like + , - , * , /,==,>,<, ...etc \n",
    "# + -> __add__()\n",
    "# - -> __sub__()\n",
    "# * -> __mul__()\n",
    "# / -> __truediv__()\n",
    "# == -> __eq__()\n",
    "# > -> __gt__()\n",
    "# < -> __it__()\n",
    "\n",
    "#  => this is what happenig behind this operation when we use operators, (__add__, ....etc)these are called magic methods."
   ]
  },
  {
   "cell_type": "code",
   "execution_count": null,
   "id": "57e5e265",
   "metadata": {},
   "outputs": [
    {
     "name": "stdout",
     "output_type": "stream",
     "text": [
      "8\n",
      "8\n"
     ]
    }
   ],
   "source": [
    "a=5 \n",
    "b=3\n",
    "print(a+b)\n",
    "print(int.__add__(a,b))   # working method behind print(a+b)"
   ]
  },
  {
   "cell_type": "code",
   "execution_count": 8,
   "id": "3c82c2a6",
   "metadata": {},
   "outputs": [
    {
     "name": "stdout",
     "output_type": "stream",
     "text": [
      "GreenApple\n"
     ]
    }
   ],
   "source": [
    "x='Green'\n",
    "y='Apple'\n",
    "print(str.__add__(x,y))"
   ]
  },
  {
   "cell_type": "code",
   "execution_count": 22,
   "id": "04b1de01",
   "metadata": {},
   "outputs": [
    {
     "name": "stdout",
     "output_type": "stream",
     "text": [
      "Vector(6, 20)\n",
      "Vector(-2, -12)\n",
      "Vector(2, 4)\n",
      "Vector(4, 8)\n"
     ]
    }
   ],
   "source": [
    "## Mathematical operator for vectors\n",
    "class Vector:\n",
    "    def __init__(self,x,y):\n",
    "        self.x=x\n",
    "        self.y=y\n",
    "    \n",
    "    def __add__(self,other):\n",
    "        return Vector(self.x+other.x,self.y+other.y)\n",
    "    def __sub__(self,other):\n",
    "        return Vector(self.x-other.x,self.y-other.y)\n",
    "    def __truediv__(self,other):\n",
    "        return Vector(self.x/other.x,self.y/other.y)\n",
    "    def __mul__(self,other):\n",
    "        return Vector(self.x*other,self.y*other)\n",
    "    def __repr__(self):\n",
    "        return f\"Vector({int(self.x)}, {int(self.y)})\"\n",
    "\n",
    "v1=Vector(4,16)\n",
    "v2=Vector(2,4)\n",
    "\n",
    "print(v1+v2)\n",
    "print(v2-v1)\n",
    "print(v1/v2)\n",
    "print(v2*2)\n"
   ]
  }
 ],
 "metadata": {
  "kernelspec": {
   "display_name": "base",
   "language": "python",
   "name": "python3"
  },
  "language_info": {
   "codemirror_mode": {
    "name": "ipython",
    "version": 3
   },
   "file_extension": ".py",
   "mimetype": "text/x-python",
   "name": "python",
   "nbconvert_exporter": "python",
   "pygments_lexer": "ipython3",
   "version": "3.13.5"
  }
 },
 "nbformat": 4,
 "nbformat_minor": 5
}
