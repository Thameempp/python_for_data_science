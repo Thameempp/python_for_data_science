{
 "cells": [
  {
   "cell_type": "code",
   "execution_count": null,
   "id": "6980394a",
   "metadata": {},
   "outputs": [
    {
     "data": {
      "text/plain": [
       "4"
      ]
     },
     "execution_count": 5,
     "metadata": {},
     "output_type": "execute_result"
    }
   ],
   "source": [
    "# Map function : used to apply a function to each item in an iterable(like a ; list,tuple, etc.)\n",
    "# can be used with regular funct, lambda funct, multiple iterables\n",
    "# map(function,iterable) ;\n",
    "\n",
    "#function\n",
    "\n",
    "def square_1(num):\n",
    "    return num*num\n",
    "square_1(2)"
   ]
  },
  {
   "cell_type": "code",
   "execution_count": null,
   "id": "98a24b2c",
   "metadata": {},
   "outputs": [
    {
     "data": {
      "text/plain": [
       "[1, 4, 9, 16, 25, 36]"
      ]
     },
     "execution_count": 10,
     "metadata": {},
     "output_type": "execute_result"
    }
   ],
   "source": [
    "# iterable\n",
    "numbers=[1,2,3,4,5,6]\n",
    "\n",
    "# map\n",
    "list(map(square_1,numbers))"
   ]
  },
  {
   "cell_type": "code",
   "execution_count": 14,
   "id": "0e69941d",
   "metadata": {},
   "outputs": [
    {
     "name": "stdout",
     "output_type": "stream",
     "text": [
      "[6, 8, 10, 12]\n"
     ]
    }
   ],
   "source": [
    "# lambda function with map\n",
    "num1=[1,2,3,4]\n",
    "num2=[5,6,7,8]\n",
    "\n",
    "data= list(map(lambda x,y:x+y,num1,num2)) \n",
    "print(data)"
   ]
  },
  {
   "cell_type": "code",
   "execution_count": null,
   "id": "ae8421c8",
   "metadata": {},
   "outputs": [
    {
     "name": "stdout",
     "output_type": "stream",
     "text": [
      "[1, 2, 3, 4]\n"
     ]
    }
   ],
   "source": [
    "# map() to convert a list of strings to integers\n",
    "\n",
    "str_numbers = ['1','2','3','4']\n",
    "int_numbers = list(map(int,str_numbers))\n",
    "print(int_numbers)"
   ]
  },
  {
   "cell_type": "code",
   "execution_count": 17,
   "id": "05e75d47",
   "metadata": {},
   "outputs": [
    {
     "name": "stdout",
     "output_type": "stream",
     "text": [
      "['APPLE', 'MANGO', 'BANANA']\n"
     ]
    }
   ],
   "source": [
    "words= ['apple','mango','banana']\n",
    "upper_word=list(map(str.upper,words))\n",
    "print(upper_word)"
   ]
  },
  {
   "cell_type": "code",
   "execution_count": 22,
   "id": "ab6ffccd",
   "metadata": {},
   "outputs": [
    {
     "data": {
      "text/plain": [
       "['kevin', 'john', 'hart']"
      ]
     },
     "execution_count": 22,
     "metadata": {},
     "output_type": "execute_result"
    }
   ],
   "source": [
    "# printing all the names from list of dictionaries\n",
    "\n",
    "def get_name(person):\n",
    "    return person['name']\n",
    "\n",
    "person=[\n",
    "    {'name':'kevin','age':23},\n",
    "    {'name':'john','age':27},\n",
    "    {'name':'hart','age':19}\n",
    "]\n",
    "list(map(get_name,person))"
   ]
  },
  {
   "cell_type": "code",
   "execution_count": null,
   "id": "9559a9b9",
   "metadata": {},
   "outputs": [],
   "source": []
  }
 ],
 "metadata": {
  "kernelspec": {
   "display_name": "base",
   "language": "python",
   "name": "python3"
  },
  "language_info": {
   "codemirror_mode": {
    "name": "ipython",
    "version": 3
   },
   "file_extension": ".py",
   "mimetype": "text/x-python",
   "name": "python",
   "nbconvert_exporter": "python",
   "pygments_lexer": "ipython3",
   "version": "3.13.5"
  }
 },
 "nbformat": 4,
 "nbformat_minor": 5
}
