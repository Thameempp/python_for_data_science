{
 "cells": [
  {
   "cell_type": "code",
   "execution_count": 1,
   "id": "b6543b36",
   "metadata": {},
   "outputs": [
    {
     "data": {
      "text/plain": [
       "True"
      ]
     },
     "execution_count": 1,
     "metadata": {},
     "output_type": "execute_result"
    }
   ],
   "source": [
    "### Filter function\n",
    "# used for : data cleaning ,filtering objects, removing unwanted elements from list\n",
    "\n",
    "def even(num):\n",
    "    return num%2==0\n",
    "\n",
    "even(24)"
   ]
  },
  {
   "cell_type": "code",
   "execution_count": 2,
   "id": "f33d4189",
   "metadata": {},
   "outputs": [
    {
     "data": {
      "text/plain": [
       "[2, 4, 6]"
      ]
     },
     "execution_count": 2,
     "metadata": {},
     "output_type": "execute_result"
    }
   ],
   "source": [
    "lst=[1,2,3,4,5,6]\n",
    "\n",
    "list(filter(even,lst))"
   ]
  },
  {
   "cell_type": "code",
   "execution_count": 4,
   "id": "68775744",
   "metadata": {},
   "outputs": [
    {
     "name": "stdout",
     "output_type": "stream",
     "text": [
      "[6, 7, 8, 9, 10]\n"
     ]
    }
   ],
   "source": [
    "# Filter with lambda function\n",
    "numbers=[1,2,3,4,5,6,7,8,9,10]\n",
    "greater_than_five=list(filter(lambda x:x>5,numbers))\n",
    "print(greater_than_five)"
   ]
  },
  {
   "cell_type": "code",
   "execution_count": 6,
   "id": "1bb9e543",
   "metadata": {},
   "outputs": [
    {
     "name": "stdout",
     "output_type": "stream",
     "text": [
      "[6, 8, 10]\n"
     ]
    }
   ],
   "source": [
    "# filter with lambda function and multiple condition \n",
    "even_no_greater_than_five=list(filter(lambda x:x>5 and x%2==0, numbers))\n",
    "print(even_no_greater_than_five)"
   ]
  },
  {
   "cell_type": "code",
   "execution_count": 9,
   "id": "7ef55961",
   "metadata": {},
   "outputs": [
    {
     "data": {
      "text/plain": [
       "[{'name': 'john', 'age': 32},\n",
       " {'name': 'nubi', 'age': 39},\n",
       " {'name': 'karl', 'age': 44}]"
      ]
     },
     "execution_count": 9,
     "metadata": {},
     "output_type": "execute_result"
    }
   ],
   "source": [
    "# filter() to check if the age is greater than 30 in dictionaries\n",
    "\n",
    "people=[\n",
    "    {'name':'john','age':32},\n",
    "    {'name':'kevin','age':28},\n",
    "    {'name':'nubi','age':39},\n",
    "    {'name':'karl','age':44}\n",
    "]\n",
    "def age_greater_than_30(person):\n",
    "    return person['age']>30\n",
    "\n",
    "list(filter(age_greater_than_30,people))\n"
   ]
  }
 ],
 "metadata": {
  "kernelspec": {
   "display_name": "base",
   "language": "python",
   "name": "python3"
  },
  "language_info": {
   "codemirror_mode": {
    "name": "ipython",
    "version": 3
   },
   "file_extension": ".py",
   "mimetype": "text/x-python",
   "name": "python",
   "nbconvert_exporter": "python",
   "pygments_lexer": "ipython3",
   "version": "3.13.5"
  }
 },
 "nbformat": 4,
 "nbformat_minor": 5
}
