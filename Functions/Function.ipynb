{
 "cells": [
  {
   "cell_type": "code",
   "execution_count": null,
   "id": "4bcd938a",
   "metadata": {},
   "outputs": [
    {
     "name": "stdout",
     "output_type": "stream",
     "text": [
      " Block of codes \n"
     ]
    }
   ],
   "source": [
    "def function():\n",
    "    print(\" Block of codes \")\n",
    " \n",
    "function() # Calling a function"
   ]
  },
  {
   "cell_type": "code",
   "execution_count": null,
   "id": "2884fba9",
   "metadata": {},
   "outputs": [
    {
     "name": "stdout",
     "output_type": "stream",
     "text": [
      "Hello thameem welcome to the paradise\n"
     ]
    }
   ],
   "source": [
    "def greet(name):\n",
    "    print(f\"Hello {name} welcome to the paradise\")\n",
    "greet(\"thameem\")"
   ]
  },
  {
   "cell_type": "code",
   "execution_count": null,
   "id": "f5f15d91",
   "metadata": {},
   "outputs": [
    {
     "name": "stdout",
     "output_type": "stream",
     "text": [
      "Hello alica mam wishing you all the best.\n",
      "Hello sofia mam wishing you all the best.\n"
     ]
    }
   ],
   "source": [
    "def teacher(name=\"alica\"):    # here , alica is the default value (name)\n",
    "    print(f\"Hello {name} mam wishing you all the best.\")\n",
    "teacher()    # prints the default name \n",
    "teacher(\"sofia\")"
   ]
  },
  {
   "cell_type": "code",
   "execution_count": null,
   "id": "5560e1ab",
   "metadata": {},
   "outputs": [
    {
     "name": "stdout",
     "output_type": "stream",
     "text": [
      "you entered a even number ( 12 )\n"
     ]
    }
   ],
   "source": [
    "# method 1. (separate input)\n",
    "\n",
    "num = int(input(\"Enter a positive number: \"))\n",
    "def even_or_odd ():\n",
    "    '''this function finds even or odd'''\n",
    "    if num%2==0:\n",
    "        print(f\"you entered a even number ( {num} )\")\n",
    "    else:\n",
    "        print(f\"you entered odd number ( {num} ) \")\n",
    "\n",
    "even_or_odd()\n"
   ]
  },
  {
   "cell_type": "code",
   "execution_count": null,
   "id": "2d8ccac0",
   "metadata": {},
   "outputs": [],
   "source": [
    "# method 2 \n",
    "\n",
    "def even_or_odd (num):\n",
    "    '''this function finds even or odd'''\n",
    "    if num%2==0:\n",
    "        print(f\"you entered a even number ( {num} )\")\n",
    "    else:\n",
    "        print(f\"you entered odd number ( {num} ) \")\n",
    "\n",
    "even_or_odd(12)\n"
   ]
  },
  {
   "cell_type": "code",
   "execution_count": 1,
   "id": "ff83eefe",
   "metadata": {},
   "outputs": [
    {
     "name": "stdout",
     "output_type": "stream",
     "text": [
      "6\n"
     ]
    }
   ],
   "source": [
    "# function with multiple parameters\n",
    "def add(a,b):\n",
    "    return a+b\n",
    "result=add(2,4)\n",
    "print(result)"
   ]
  },
  {
   "cell_type": "code",
   "execution_count": null,
   "id": "8ed6554c",
   "metadata": {},
   "outputs": [],
   "source": []
  },
  {
   "cell_type": "code",
   "execution_count": 2,
   "id": "89596876",
   "metadata": {},
   "outputs": [],
   "source": [
    "# positional arguments\n",
    "def print_numbers(*args):\n",
    "    for numbers in args:\n",
    "        print(numbers)"
   ]
  },
  {
   "cell_type": "code",
   "execution_count": 4,
   "id": "cacd6da9",
   "metadata": {},
   "outputs": [
    {
     "name": "stdout",
     "output_type": "stream",
     "text": [
      "1\n",
      "2\n",
      "3\n",
      "4\n",
      "5\n",
      "Number\n"
     ]
    }
   ],
   "source": [
    "print_numbers(1,2,3,4,5,\"Number\")"
   ]
  },
  {
   "cell_type": "code",
   "execution_count": 8,
   "id": "6d1ee9d0",
   "metadata": {},
   "outputs": [],
   "source": [
    "# Keyword argument    \n",
    "def print_details(**kwargs):  # All the parameters will be in the form of key word pairs\n",
    "    for key,values in kwargs.items():\n",
    "        print(f\"{key}:{values}\")\n",
    "        "
   ]
  },
  {
   "cell_type": "code",
   "execution_count": 10,
   "id": "d1e6ba08",
   "metadata": {},
   "outputs": [
    {
     "name": "stdout",
     "output_type": "stream",
     "text": [
      "name:john\n",
      "age:20\n"
     ]
    }
   ],
   "source": [
    "print_details(name=\"john\",age=20)"
   ]
  },
  {
   "cell_type": "code",
   "execution_count": 17,
   "id": "26a43df6",
   "metadata": {},
   "outputs": [],
   "source": [
    "# combining both positional argument and keyword argument\n",
    "def print_arg(*args,**kwrgs):\n",
    "    for numberz in args:\n",
    "        print(f\"{numberz}\")\n",
    "    for key, values in kwrgs.items():\n",
    "        print(f\"{key}:{values}\")"
   ]
  },
  {
   "cell_type": "code",
   "execution_count": 18,
   "id": "10acfcc6",
   "metadata": {},
   "outputs": [
    {
     "name": "stdout",
     "output_type": "stream",
     "text": [
      "1\n",
      "2\n",
      "3\n",
      "4\n",
      "john\n",
      "name:kevin\n",
      "age:26\n"
     ]
    }
   ],
   "source": [
    "print_arg(1,2,3,4,\"john\", name=\"kevin\",age=\"26\")"
   ]
  },
  {
   "cell_type": "code",
   "execution_count": 27,
   "id": "81c3ffd1",
   "metadata": {},
   "outputs": [
    {
     "data": {
      "text/plain": [
       "(48, 16)"
      ]
     },
     "execution_count": 27,
     "metadata": {},
     "output_type": "execute_result"
    }
   ],
   "source": [
    "# Return multiple parameters\n",
    "def multiple_para(a,b):\n",
    "    return a*b,a\n",
    "multiple_para(16,3)"
   ]
  }
 ],
 "metadata": {
  "kernelspec": {
   "display_name": "base",
   "language": "python",
   "name": "python3"
  },
  "language_info": {
   "codemirror_mode": {
    "name": "ipython",
    "version": 3
   },
   "file_extension": ".py",
   "mimetype": "text/x-python",
   "name": "python",
   "nbconvert_exporter": "python",
   "pygments_lexer": "ipython3",
   "version": "3.13.5"
  }
 },
 "nbformat": 4,
 "nbformat_minor": 5
}
