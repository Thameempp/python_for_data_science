{
 "cells": [
  {
   "cell_type": "code",
   "execution_count": null,
   "id": "4bcd938a",
   "metadata": {},
   "outputs": [
    {
     "name": "stdout",
     "output_type": "stream",
     "text": [
      " Block of codes \n"
     ]
    }
   ],
   "source": [
    "def function():\n",
    "    print(\" Block of codes \")\n",
    " \n",
    "function() # Calling a function"
   ]
  },
  {
   "cell_type": "code",
   "execution_count": null,
   "id": "2884fba9",
   "metadata": {},
   "outputs": [
    {
     "name": "stdout",
     "output_type": "stream",
     "text": [
      "Hello thameem welcome to the paradise\n"
     ]
    }
   ],
   "source": [
    "def greet(name):\n",
    "    print(f\"Hello {name} welcome to the paradise\")\n",
    "greet(\"thameem\")"
   ]
  },
  {
   "cell_type": "code",
   "execution_count": 25,
   "id": "f5f15d91",
   "metadata": {},
   "outputs": [
    {
     "name": "stdout",
     "output_type": "stream",
     "text": [
      "Hello alica mam wishing you all the best.\n",
      "Hello sofia mam wishing you all the best.\n"
     ]
    }
   ],
   "source": [
    "def teacher(name=\"alica\"):\n",
    "    print(f\"Hello {name} mam wishing you all the best.\")\n",
    "teacher()\n",
    "teacher(\"sofia\")"
   ]
  },
  {
   "cell_type": "code",
   "execution_count": null,
   "id": "5560e1ab",
   "metadata": {},
   "outputs": [
    {
     "name": "stdout",
     "output_type": "stream",
     "text": [
      "you entered a even number ( 12 )\n"
     ]
    }
   ],
   "source": [
    "# method 1. (separate input)\n",
    "\n",
    "num = int(input(\"Enter a positive number: \"))\n",
    "def even_or_odd ():\n",
    "    '''this function finds even or odd'''\n",
    "    if num%2==0:\n",
    "        print(f\"you entered a even number ( {num} )\")\n",
    "    else:\n",
    "        print(f\"you entered odd number ( {num} ) \")\n",
    "\n",
    "even_or_odd()\n"
   ]
  },
  {
   "cell_type": "code",
   "execution_count": null,
   "id": "2d8ccac0",
   "metadata": {},
   "outputs": [],
   "source": [
    "# method 2 \n",
    "\n",
    "def even_or_odd (num):\n",
    "    '''this function finds even or odd'''\n",
    "    if num%2==0:\n",
    "        print(f\"you entered a even number ( {num} )\")\n",
    "    else:\n",
    "        print(f\"you entered odd number ( {num} ) \")\n",
    "\n",
    "even_or_odd(12)\n"
   ]
  },
  {
   "cell_type": "code",
   "execution_count": 17,
   "id": "ff83eefe",
   "metadata": {},
   "outputs": [
    {
     "name": "stdout",
     "output_type": "stream",
     "text": [
      "6\n"
     ]
    }
   ],
   "source": [
    "# function with multiple parameters\n",
    "def add(a,b):\n",
    "    return a+b\n",
    "result=add(2,4)\n",
    "print(result)"
   ]
  },
  {
   "cell_type": "code",
   "execution_count": null,
   "id": "89596876",
   "metadata": {},
   "outputs": [],
   "source": []
  },
  {
   "cell_type": "code",
   "execution_count": null,
   "id": "cacd6da9",
   "metadata": {},
   "outputs": [],
   "source": []
  }
 ],
 "metadata": {
  "kernelspec": {
   "display_name": "base",
   "language": "python",
   "name": "python3"
  },
  "language_info": {
   "codemirror_mode": {
    "name": "ipython",
    "version": 3
   },
   "file_extension": ".py",
   "mimetype": "text/x-python",
   "name": "python",
   "nbconvert_exporter": "python",
   "pygments_lexer": "ipython3",
   "version": "3.13.5"
  }
 },
 "nbformat": 4,
 "nbformat_minor": 5
}
