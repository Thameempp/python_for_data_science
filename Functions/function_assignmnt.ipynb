{
 "cells": [
  {
   "cell_type": "code",
   "execution_count": null,
   "id": "64e96e68",
   "metadata": {},
   "outputs": [],
   "source": [
    "#Define a function that takes two arguments, a and b, where b is a dictionary with a default value of an empty dictionary. The function should add a new key-value pair to the dictionary and return it. Test the function with different inputs."
   ]
  },
  {
   "cell_type": "code",
   "execution_count": 8,
   "id": "e79f0f5c",
   "metadata": {},
   "outputs": [
    {
     "name": "stdout",
     "output_type": "stream",
     "text": [
      "{2: 4}\n",
      "{4: 16}\n"
     ]
    }
   ],
   "source": [
    "\n",
    "def funct(a,b=None):\n",
    "    if b is None:\n",
    "        b = {}\n",
    "    b[a] = a**2\n",
    "    return b\n",
    "\n",
    "print(funct(2))\n",
    "print(funct(4))"
   ]
  },
  {
   "cell_type": "code",
   "execution_count": 11,
   "id": "00c816bf",
   "metadata": {},
   "outputs": [
    {
     "name": "stdout",
     "output_type": "stream",
     "text": [
      "18\n"
     ]
    }
   ],
   "source": [
    "\n",
    "def rectangle_area(length,breadth):\n",
    "    return length * breadth\n",
    "area= rectangle_area(6,3)\n",
    "print(area)"
   ]
  },
  {
   "cell_type": "code",
   "execution_count": null,
   "id": "de377fc2",
   "metadata": {},
   "outputs": [
    {
     "name": "stdout",
     "output_type": "stream",
     "text": [
      "18.0\n"
     ]
    }
   ],
   "source": [
    "length=float(6)\n",
    "breadth=float(3)\n",
    "#def rectangle_area():\n",
    "    return length * breadth\n",
    "\n",
    "\n",
    "#area=rectangle_area()\n",
    "#print(area)"
   ]
  },
  {
   "cell_type": "code",
   "execution_count": 53,
   "id": "5f3ca650",
   "metadata": {},
   "outputs": [
    {
     "data": {
      "text/plain": [
       "18"
      ]
     },
     "execution_count": 53,
     "metadata": {},
     "output_type": "execute_result"
    }
   ],
   "source": [
    "def area_of_rectangle(length, breadth):\n",
    "    return length * breadth\n",
    "    \"\"\"\n",
    "    Function to calculate the area of a rectangle.\n",
    "    \n",
    "    Parameters:\n",
    "    length (float): The length of the rectangle.\n",
    "    breadth (float): The breadth of the rectangle.\n",
    "    \n",
    "    Returns:\n",
    "    float: The area of the rectangle.\n",
    "    \"\"\"\n",
    "length=float()\n",
    "breadth=float()\n",
    "area_of_rectangle(6,3)\n"
   ]
  },
  {
   "cell_type": "code",
   "execution_count": 70,
   "id": "d1ba393c",
   "metadata": {},
   "outputs": [
    {
     "name": "stdout",
     "output_type": "stream",
     "text": [
      "4.0\n"
     ]
    }
   ],
   "source": [
    "n=100\n",
    "capacity =25\n",
    "roundss = n / capacity\n",
    "def calculate_lift_rounds():\n",
    "    if  n%capacity !=0 :\n",
    "        r=n%capacity\n",
    "        k = int(roundss + r)\n",
    "        print(k)\n",
    "    else:\n",
    "\n",
    "        print(roundss)\n",
    "\n",
    "\n",
    "\n",
    "calculate_lift_rounds()\n"
   ]
  },
  {
   "cell_type": "code",
   "execution_count": null,
   "id": "761703d7",
   "metadata": {},
   "outputs": [
    {
     "ename": "ZeroDivisionError",
     "evalue": "division by zero",
     "output_type": "error",
     "traceback": [
      "\u001b[31m---------------------------------------------------------------------------\u001b[39m",
      "\u001b[31mZeroDivisionError\u001b[39m                         Traceback (most recent call last)",
      "\u001b[36mCell\u001b[39m\u001b[36m \u001b[39m\u001b[32mIn[67]\u001b[39m\u001b[32m, line 1\u001b[39m\n\u001b[32m----> \u001b[39m\u001b[32m1\u001b[39m roundss = \u001b[43mn\u001b[49m\u001b[43m \u001b[49m\u001b[43m/\u001b[49m\u001b[43m \u001b[49m\u001b[43mcapacity\u001b[49m\n\u001b[32m      2\u001b[39m \u001b[38;5;28;01mdef\u001b[39;00m\u001b[38;5;250m \u001b[39m\u001b[34mcalculate_lift_rounds\u001b[39m(n,capacity):\n\u001b[32m      3\u001b[39m     \u001b[38;5;28;01mif\u001b[39;00m  n%capacity !=\u001b[32m0\u001b[39m :\n",
      "\u001b[31mZeroDivisionError\u001b[39m: division by zero"
     ]
    }
   ],
   "source": [
    "roundss = n / capacity\n",
    "def calculate_lift_rounds(n,capacity):\n",
    "    if  n%capacity !=0 :\n",
    "        r=n%capacity\n",
    "        k = int(roundss + r)\n",
    "        print(k)\n",
    "    else:\n",
    "        print(roundss)\n",
    "\n",
    "                \n",
    "calculate_lift_rounds(15,5)\n",
    "\n"
   ]
  },
  {
   "cell_type": "code",
   "execution_count": null,
   "id": "fdfdff69",
   "metadata": {},
   "outputs": [
    {
     "name": "stdout",
     "output_type": "stream",
     "text": [
      "11\n"
     ]
    }
   ],
   "source": [
    "n=5\n",
    "capacity =5\n",
    "roundss = n / capacity\n",
    "def calculate_lift_rounds():\n",
    "    if  n%capacity !=0 :\n",
    "        r=n%capacity\n",
    "        k = int(roundss + r)\n",
    "        print(k)\n",
    "    else:\n",
    "\n",
    "        print(roundss)\n",
    "\n",
    "calculate_lift_rounds()\n"
   ]
  },
  {
   "cell_type": "code",
   "execution_count": null,
   "id": "0a2a86aa",
   "metadata": {},
   "outputs": [],
   "source": []
  }
 ],
 "metadata": {
  "kernelspec": {
   "display_name": "base",
   "language": "python",
   "name": "python3"
  },
  "language_info": {
   "codemirror_mode": {
    "name": "ipython",
    "version": 3
   },
   "file_extension": ".py",
   "mimetype": "text/x-python",
   "name": "python",
   "nbconvert_exporter": "python",
   "pygments_lexer": "ipython3",
   "version": "3.13.5"
  }
 },
 "nbformat": 4,
 "nbformat_minor": 5
}
