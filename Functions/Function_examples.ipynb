{
 "cells": [
  {
   "cell_type": "code",
   "execution_count": null,
   "id": "fede07e7",
   "metadata": {},
   "outputs": [
    {
     "name": "stdout",
     "output_type": "stream",
     "text": [
      "77.0\n",
      "25.0\n",
      "26.850000000000023\n"
     ]
    }
   ],
   "source": [
    "# Temperature convertion \n",
    "\n",
    "def convert_temp(temp,unit):\n",
    "    if unit =='C':\n",
    "        return temp *9/5 + 32  # celsius to Fahrenheit\n",
    "    elif unit =='F':\n",
    "        return (temp-32) *5/9 # Fahrenheit to celsius\n",
    "    elif unit=='K':\n",
    "        return temp - 273.15  # Kelvin to Celsius\n",
    "    else:\n",
    "        None\n",
    "print(convert_temp(25,'C'))\n",
    "print(convert_temp(77,'F'))\n",
    "print(convert_temp(300,'K'))\n"
   ]
  },
  {
   "cell_type": "code",
   "execution_count": null,
   "id": "80813a90",
   "metadata": {},
   "outputs": [
    {
     "name": "stdout",
     "output_type": "stream",
     "text": [
      "False\n",
      "True\n"
     ]
    }
   ],
   "source": [
    "# Password strength checker \n",
    "\n",
    "def strng_pass(password):\n",
    "    if len(password)<8:\n",
    "        return False\n",
    "    if not any(char.isdigit() for char in password):\n",
    "        return False\n",
    "    if not any(char.isupper() for char in password):\n",
    "        return False\n",
    "    if not any(char.islower() for char in password):\n",
    "        return False\n",
    "    if not any(char in '!@#$%^&*()_+?' for char in password):\n",
    "        return False\n",
    "    return True\n",
    "print(strng_pass(\"Abcd12345\"))\n",
    "print(strng_pass(\"Abcd123#\"))"
   ]
  },
  {
   "cell_type": "code",
   "execution_count": 38,
   "id": "749d8770",
   "metadata": {},
   "outputs": [
    {
     "data": {
      "text/plain": [
       "61"
      ]
     },
     "execution_count": 38,
     "metadata": {},
     "output_type": "execute_result"
    }
   ],
   "source": [
    "# Calculating the total cost of items in a shopping cart\n",
    "def calculate_totalcost(cart):\n",
    "    total_cost=0\n",
    "    for item in cart:\n",
    "        total_cost+=item['price'] * item['quantity']\n",
    "    \n",
    "    return total_cost\n",
    "\n",
    "\n",
    "\n",
    "\n",
    "# Cart\n",
    "cart= [\n",
    "    {'name':'apple','price':2,'quantity':8},\n",
    "    {'name':'grape','price':3,'quantity':7},\n",
    "    {'name':'mango','price':4,'quantity':6}\n",
    "]\n",
    "calculate_totalcost(cart)"
   ]
  },
  {
   "cell_type": "code",
   "execution_count": 42,
   "id": "b49d6244",
   "metadata": {},
   "outputs": [
    {
     "name": "stdout",
     "output_type": "stream",
     "text": [
      "True\n",
      "True\n",
      "False\n"
     ]
    }
   ],
   "source": [
    "# Check if a string is Palindrome\n",
    "def is_palindrome(s):\n",
    "    s=s.lower().replace(\" \",\"\")\n",
    "    return s==s[::-1]\n",
    "\n",
    "print(is_palindrome(\"malayalam\"))\n",
    "print(is_palindrome(\"a man a plan a canal panama\"))\n",
    "print(is_palindrome(\"hello\"))\n"
   ]
  },
  {
   "cell_type": "code",
   "execution_count": 46,
   "id": "5a0765f8",
   "metadata": {},
   "outputs": [
    {
     "data": {
      "text/plain": [
       "2"
      ]
     },
     "execution_count": 46,
     "metadata": {},
     "output_type": "execute_result"
    }
   ],
   "source": [
    "# calculate the factorials of a number using recursion\n",
    "# expl; 5!=5*4*3*2*1\n",
    "\n",
    "def factorial(n):\n",
    "    if n==0:\n",
    "        return 1\n",
    "    else:\n",
    "        return n * factorial(n-1)\n",
    "\n",
    "factorial(2)"
   ]
  },
  {
   "cell_type": "code",
   "execution_count": 72,
   "id": "86fe6186",
   "metadata": {},
   "outputs": [
    {
     "name": "stdout",
     "output_type": "stream",
     "text": [
      "{'hi': 2, 'hello': 1, 'iam': 1, 'thameem': 2, 'hey': 1}\n"
     ]
    }
   ],
   "source": [
    "# A function to read a file and count the frequency of each word\n",
    "# using ; reading file method \n",
    "def count_frequency(file_path):\n",
    "    word_count={}\n",
    "    with open(file_path,'r') as file:\n",
    "        for line in file :\n",
    "            words=line.split()\n",
    "            for word in words:\n",
    "                word=word.lower().strip('.,!?;:\"\\'')\n",
    "                word_count[word]=word_count.get(word,0)+1\n",
    "    return word_count\n",
    "filepath='sample2.txt'\n",
    "word_frequency=count_frequency(filepath)\n",
    "print(word_frequency)\n",
    "\n"
   ]
  },
  {
   "cell_type": "code",
   "execution_count": null,
   "id": "4a3720dd",
   "metadata": {},
   "outputs": [],
   "source": []
  },
  {
   "cell_type": "code",
   "execution_count": null,
   "id": "3fee7ab4",
   "metadata": {},
   "outputs": [
    {
     "name": "stdout",
     "output_type": "stream",
     "text": [
      "True\n",
      "True\n"
     ]
    }
   ],
   "source": [
    "import re\n",
    "# Validate email address\n",
    "def is_valid_email(email):\n",
    "    '''this function checks if the email is valid or not'''\n",
    "    pattern = r'^[a-zA-Z0-9_.+-]+@[a-zA-Z0-9-]+\\.[a-zA-Z0-9-.]+$'\n",
    "    return re.match(pattern, email) is not None \n",
    "\n",
    "print(is_valid_email(\"test@example.com\"))\n"
   ]
  },
  {
   "cell_type": "code",
   "execution_count": null,
   "id": "1c90af91",
   "metadata": {},
   "outputs": [
    {
     "data": {
      "text/plain": [
       "{}"
      ]
     },
     "execution_count": 60,
     "metadata": {},
     "output_type": "execute_result"
    }
   ],
   "source": []
  }
 ],
 "metadata": {
  "kernelspec": {
   "display_name": "base",
   "language": "python",
   "name": "python3"
  },
  "language_info": {
   "codemirror_mode": {
    "name": "ipython",
    "version": 3
   },
   "file_extension": ".py",
   "mimetype": "text/x-python",
   "name": "python",
   "nbconvert_exporter": "python",
   "pygments_lexer": "ipython3",
   "version": "3.13.5"
  }
 },
 "nbformat": 4,
 "nbformat_minor": 5
}
