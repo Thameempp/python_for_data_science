{
 "cells": [
  {
   "cell_type": "markdown",
   "id": "fa8034c3",
   "metadata": {},
   "source": [
    "[arn]\tReturns a match where one of the specified characters (a, r, or n) is present\t\n",
    "[a-n]\tReturns a match for any lower case character, alphabetically between a and n\t\n",
    "[^arn]\tReturns a match for any character EXCEPT a, r, and n\t\n",
    "[0123]\tReturns a match where any of the specified digits (0, 1, 2, or 3) are present\t\n",
    "[0-9]\tReturns a match for any digit between 0 and 9\t\n",
    "[0-5][0-9]\tReturns a match for any two-digit numbers from 00 and 59\t\n",
    "[a-zA-Z]\tReturns a match for any character alphabetically between a and z, lower case OR upper case\t\n",
    "[+]\tIn sets, +, *, ., |, (), $,{} has no special meaning, so [+] means: return a match for any + character in the string"
   ]
  },
  {
   "cell_type": "code",
   "execution_count": 2,
   "id": "af7dc708",
   "metadata": {},
   "outputs": [],
   "source": [
    "import re\n",
    "import warnings\n",
    "warnings.filterwarnings('ignore')"
   ]
  },
  {
   "cell_type": "code",
   "execution_count": 38,
   "id": "3c771b66",
   "metadata": {},
   "outputs": [
    {
     "name": "stdout",
     "output_type": "stream",
     "text": [
      "['M', 'a', 'c', 'h', 'i', 'n', 'e', 'l', 'e', 'a', 'r', 'n', 'i', 'n', 'g']\n"
     ]
    }
   ],
   "source": [
    "# [a-zA-Z]\n",
    "txt=\"Machine learning\"\n",
    "\n",
    "Q=re.findall(\"[a-zA-Z]\",txt)\n",
    "print(Q)"
   ]
  },
  {
   "cell_type": "code",
   "execution_count": null,
   "id": "5677c9b5",
   "metadata": {},
   "outputs": [
    {
     "name": "stdout",
     "output_type": "stream",
     "text": [
      "['a', 'c', 'h', 'a']\n",
      "ys there is a match\n"
     ]
    }
   ],
   "source": [
    "# [arn]\n",
    "txt=\"Machine learning\"\n",
    "\n",
    "a=re.findall(\"[ach]\",txt)\n",
    "print(a)\n",
    "if a:\n",
    "    print(\"ys there is a match\")\n",
    "else:\n",
    "    print(\"no match\")"
   ]
  },
  {
   "cell_type": "code",
   "execution_count": null,
   "id": "6bc2a7d9",
   "metadata": {},
   "outputs": [
    {
     "name": "stdout",
     "output_type": "stream",
     "text": [
      "['a', 'c', 'h', 'i', 'n', 'e', 'l', 'e', 'a', 'n', 'i', 'n', 'g']\n"
     ]
    }
   ],
   "source": [
    "# [a-n] =>  lowercase , alphabetically between a and n\n",
    "txt=\"Machine learning\"\n",
    "\n",
    "b=re.findall(\"[a-n]\", txt)\n",
    "print(b)"
   ]
  },
  {
   "cell_type": "code",
   "execution_count": null,
   "id": "9e0a0bd3",
   "metadata": {},
   "outputs": [
    {
     "name": "stdout",
     "output_type": "stream",
     "text": [
      "['M', 'c', 'h', 'i', 'e', ' ', 'l', 'e', 'i', 'g']\n"
     ]
    }
   ],
   "source": [
    "# [^arn] => characters except a,r,n\n",
    "txt=\"Machine learning\"\n",
    "\n",
    "c=re.findall(\"[^arn]\", txt)\n",
    "print(c)"
   ]
  },
  {
   "cell_type": "code",
   "execution_count": 11,
   "id": "881b877e",
   "metadata": {},
   "outputs": [
    {
     "name": "stdout",
     "output_type": "stream",
     "text": [
      "[]\n",
      "['0', '1', '2', '3']\n",
      "['0', '1', '2', '9']\n"
     ]
    }
   ],
   "source": [
    "# [0123]\n",
    "txt=\"Machine learning\"\n",
    "txt1=\"0Machine123 learning456\"\n",
    "txt2=\"0Machine123 learning49\"\n",
    "\n",
    "d=re.findall(\"[0123]\",txt)   # output -> [] ; because there is no numbers included in this string\n",
    "e=re.findall(\"[0123]\",txt1)\n",
    "f=re.findall(\"[012789]\",txt2)\n",
    "\n",
    "print(d)\n",
    "print(e)\n",
    "print(f)"
   ]
  },
  {
   "cell_type": "code",
   "execution_count": 17,
   "id": "b6b66ddb",
   "metadata": {},
   "outputs": [
    {
     "name": "stdout",
     "output_type": "stream",
     "text": [
      "['0', '1', '2', '3', '4', '9']\n"
     ]
    }
   ],
   "source": [
    "# [0-9]\n",
    "txt2=\"0Machine123 learning49\"\n",
    "\n",
    "g=re.findall(\"[0-9]\",txt2)\n",
    "print(g)"
   ]
  },
  {
   "cell_type": "code",
   "execution_count": 37,
   "id": "070c112c",
   "metadata": {},
   "outputs": [
    {
     "name": "stdout",
     "output_type": "stream",
     "text": [
      "['12', '49', '35']\n",
      "['12', '35']\n",
      "['12']\n",
      "['123']\n"
     ]
    }
   ],
   "source": [
    "# [0-5][0-9] => Returns a match for any two-digit numbers from 00 and 59\t\n",
    "txt2=\"0Machine123 learning49 35\"\n",
    "\n",
    "h=re.findall(\"[0-5][0-9]\",txt2) # 00 -> 59\n",
    "i=re.findall(\"[0-4][0-8]\",txt2) # 00 -> 48\n",
    "j=re.findall(\"[0-3][0-3]\",txt2) # 00 -> 33\n",
    "k=re.findall(\"[0-1][0-2][0-5]\",txt2) # any three-digit numbers from 000 and 125\n",
    "\n",
    "print(h)\n",
    "print(i)\n",
    "print(j)\n",
    "print(k)"
   ]
  },
  {
   "cell_type": "code",
   "execution_count": 1,
   "id": "82270800",
   "metadata": {},
   "outputs": [
    {
     "name": "stdout",
     "output_type": "stream",
     "text": [
      "['+', '+']\n"
     ]
    }
   ],
   "source": [
    "# [+]\n",
    "text = \"a+b c-d e+f\"\n",
    "\n",
    "pattern = r\"[+]\"\n",
    "matches = re.findall(pattern, text)\n",
    "\n",
    "print(matches)  # ['+', '+']\n"
   ]
  },
  {
   "cell_type": "code",
   "execution_count": 4,
   "id": "a0ee74fb",
   "metadata": {},
   "outputs": [
    {
     "name": "stdout",
     "output_type": "stream",
     "text": [
      "regex done\n"
     ]
    }
   ],
   "source": [
    "print(\"regex done\")"
   ]
  },
  {
   "cell_type": "code",
   "execution_count": null,
   "id": "3192e09f",
   "metadata": {},
   "outputs": [],
   "source": []
  }
 ],
 "metadata": {
  "kernelspec": {
   "display_name": "base",
   "language": "python",
   "name": "python3"
  },
  "language_info": {
   "codemirror_mode": {
    "name": "ipython",
    "version": 3
   },
   "file_extension": ".py",
   "mimetype": "text/x-python",
   "name": "python",
   "nbconvert_exporter": "python",
   "pygments_lexer": "ipython3",
   "version": "3.13.5"
  }
 },
 "nbformat": 4,
 "nbformat_minor": 5
}
