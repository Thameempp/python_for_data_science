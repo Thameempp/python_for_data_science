{
 "cells": [
  {
   "cell_type": "code",
   "execution_count": null,
   "id": "c2c08cbc",
   "metadata": {},
   "outputs": [],
   "source": [
    "# RegEx in Python\n",
    "# When you have imported the re module, you can start using regular expressions:"
   ]
  },
  {
   "cell_type": "code",
   "execution_count": null,
   "id": "417e790a",
   "metadata": {},
   "outputs": [],
   "source": [
    "# RegEx Functions\n",
    "\n",
    "# findall\tReturns a list containing all matches\n",
    "# search\tReturns a Match object if there is a match anywhere in the string\n",
    "# split\tReturns a list where the string has been split at each match\n",
    "# sub\tReplaces one or many matches with a string"
   ]
  },
  {
   "cell_type": "code",
   "execution_count": null,
   "id": "21063e4c",
   "metadata": {},
   "outputs": [
    {
     "ename": "TypeError",
     "evalue": "'list' object is not callable",
     "output_type": "error",
     "traceback": [
      "\u001b[31m---------------------------------------------------------------------------\u001b[39m",
      "\u001b[31mTypeError\u001b[39m                                 Traceback (most recent call last)",
      "\u001b[36mCell\u001b[39m\u001b[36m \u001b[39m\u001b[32mIn[41]\u001b[39m\u001b[32m, line 6\u001b[39m\n\u001b[32m      1\u001b[39m \u001b[38;5;28;01mimport\u001b[39;00m\u001b[38;5;250m \u001b[39m\u001b[34;01mre\u001b[39;00m\n\u001b[32m      2\u001b[39m \u001b[38;5;28;01mimport\u001b[39;00m\u001b[38;5;250m \u001b[39m\u001b[34;01mwarnings\u001b[39;00m\n\u001b[32m----> \u001b[39m\u001b[32m6\u001b[39m \u001b[43mwarnings\u001b[49m\u001b[43m.\u001b[49m\u001b[43mfilters\u001b[49m\u001b[43m(\u001b[49m\u001b[43m)\u001b[49m\n",
      "\u001b[31mTypeError\u001b[39m: 'list' object is not callable"
     ]
    }
   ],
   "source": [
    "import re\n",
    "import warnings\n",
    "\n"
   ]
  },
  {
   "cell_type": "code",
   "execution_count": 38,
   "id": "7aea36f5",
   "metadata": {},
   "outputs": [],
   "source": [
    "txt= \"Machine Learning and Artificial Intelligence\""
   ]
  },
  {
   "cell_type": "code",
   "execution_count": null,
   "id": "cf483ec5",
   "metadata": {},
   "outputs": [
    {
     "name": "stdout",
     "output_type": "stream",
     "text": [
      "['in', 'in']\n"
     ]
    }
   ],
   "source": [
    "# findall function  (If no matches are found, an empty list is returned:)\n",
    "\n",
    "a=re.findall(\"in\",txt)\n",
    "print(a)"
   ]
  },
  {
   "cell_type": "code",
   "execution_count": 39,
   "id": "c65103f3",
   "metadata": {},
   "outputs": [
    {
     "name": "stdout",
     "output_type": "stream",
     "text": [
      "The white space character is located in the position: 7\n"
     ]
    },
    {
     "name": "stderr",
     "output_type": "stream",
     "text": [
      "<>:3: SyntaxWarning: invalid escape sequence '\\s'\n",
      "<>:3: SyntaxWarning: invalid escape sequence '\\s'\n",
      "/var/folders/d0/0z7mg03d4zggp6_2nq04bd280000gn/T/ipykernel_17919/1033534.py:3: SyntaxWarning: invalid escape sequence '\\s'\n",
      "  b=re.search(\"\\s\",txt)\n"
     ]
    }
   ],
   "source": [
    "# search function\n",
    "\n",
    "b=re.search(\"\\s\",txt)\n",
    "print(\"The white space character is located in the position:\",b.start())"
   ]
  },
  {
   "cell_type": "code",
   "execution_count": null,
   "id": "25f191ba",
   "metadata": {},
   "outputs": [],
   "source": []
  }
 ],
 "metadata": {
  "kernelspec": {
   "display_name": "base",
   "language": "python",
   "name": "python3"
  },
  "language_info": {
   "codemirror_mode": {
    "name": "ipython",
    "version": 3
   },
   "file_extension": ".py",
   "mimetype": "text/x-python",
   "name": "python",
   "nbconvert_exporter": "python",
   "pygments_lexer": "ipython3",
   "version": "3.13.5"
  }
 },
 "nbformat": 4,
 "nbformat_minor": 5
}
