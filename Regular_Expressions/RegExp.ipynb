{
 "cells": [
  {
   "cell_type": "markdown",
   "id": "b8c9acb3",
   "metadata": {},
   "source": [
    "Introduction to regex\n",
    "\n",
    "Importing re module\n",
    "\n",
    "Raw strings (r\"pattern\")"
   ]
  },
  {
   "cell_type": "markdown",
   "id": "8f22999d",
   "metadata": {},
   "source": [
    "# metacharacters and quantifiers\n",
    "# Flags / Modifiers "
   ]
  },
  {
   "cell_type": "markdown",
   "id": "7f19b258",
   "metadata": {},
   "source": [
    "## Practical Use Cases\n",
    "-> Email validation\n",
    "-> Phone number matching\n",
    "-> Extracting hashtags or mentions\n",
    "-> Splitting text by multiple delimiters\n",
    "-> Cleaning unwanted characters from strings"
   ]
  },
  {
   "cell_type": "code",
   "execution_count": 2,
   "id": "612a0367",
   "metadata": {},
   "outputs": [],
   "source": [
    "import re\n",
    "import warnings\n",
    "warnings.filterwarnings('ignore')"
   ]
  },
  {
   "cell_type": "code",
   "execution_count": null,
   "id": "376d0df2",
   "metadata": {},
   "outputs": [
    {
     "name": "stdout",
     "output_type": "stream",
     "text": [
      "<re.Match object; span=(4, 6), match='ra'>\n"
     ]
    }
   ],
   "source": [
    "# Match object   => is an object containing information about the search and the result.\n",
    "\n",
    "txt = \"The rain in Spain\"\n",
    "x = re.search(\"ra\", txt)\n",
    "\n",
    "print(x)"
   ]
  },
  {
   "cell_type": "code",
   "execution_count": null,
   "id": "a0dffae6",
   "metadata": {},
   "outputs": [
    {
     "name": "stdout",
     "output_type": "stream",
     "text": [
      "['Hello']\n",
      "['Hello']\n",
      "['there']\n",
      "['e', 'l', 'l', 'o', 'i', 'n', 'g', 'a', 'p', 'o', 'r', 'e', 'i', 's', 'i', 't', 's', 't', 'i', 'l', 'l', 'r', 'a', 'i', 'n', 'i', 'n', 'g', 't', 'h', 'e', 'r', 'e']\n",
      "['Hello']\n",
      "['Hello Singapo']\n",
      "['Hello Singapo']\n",
      "[]\n",
      "['Hello']\n",
      "['Hello Singapo']\n",
      "['Hello']\n"
     ]
    }
   ],
   "source": [
    " #.       Metacharacters and quantifiers\n",
    "'''   \n",
    "# Metacharacters\n",
    "     . → any character except newline\n",
    "     ^ → start of string\n",
    "     $ → end of string\n",
    "     [] → character set\n",
    "     | → OR operator\n",
    "     () → grouping \n",
    "# Quantifiers\n",
    "     *\tZero or more occurrences\t\n",
    "     +\tOne or more occurrences\t\n",
    "     ?\tZero or one occurrences\t\n",
    "     {n}\tExactly the specified number of occurrences.\n",
    "     {n,} → n or more\n",
    "     {n,m} → between n and m      '''\n",
    "\n",
    "txt=\"Hello Singapore. is it still raining there\"\n",
    "\n",
    "a=re.findall(\"He..o\",txt)\n",
    "b=re.findall(\"^Hello\",txt) # string starts with Hello, if yes then -> print it .\n",
    "c=re.findall(\"there$\",txt) # string ends with there, if yes then -> print it. or not then -> print [] \n",
    "d=re.findall(\"[a-t]\",txt)  \n",
    "e=re.findall(\"Hello|Hey\",txt) # Hello or Hey \n",
    "f=re.findall(\"He.*o\",txt)  # -> Zero or more occurrences of letters between He <-> o\n",
    "g=re.findall(\"He.+o\",txt)  # -> one or more occurrences of letters between He <-> o\n",
    "h=re.findall(\"He.?o\",txt)  # -> Zero or one occurrences of letters between He <-> o\n",
    "i=re.findall(\"He.{2}o\",txt) # -> only 2 occurrences of letters between He <-> o\n",
    "j=re.findall(\"He.{2,}o\",txt) \n",
    "k=re.findall(\"He.{1,3}o\",txt) \n",
    "\n",
    "\n",
    "print(a)\n",
    "print(b)\n",
    "print(c)\n",
    "print(d)\n",
    "print(e)\n",
    "print(f)\n",
    "print(g)\n",
    "print(h)\n",
    "print(i)\n",
    "print(j)\n",
    "print(k)\n"
   ]
  },
  {
   "cell_type": "code",
   "execution_count": null,
   "id": "a8b40d9a",
   "metadata": {},
   "outputs": [
    {
     "name": "stdout",
     "output_type": "stream",
     "text": [
      "Full Match: Hello world\n",
      "First word: Hello\n",
      "second word: world\n"
     ]
    }
   ],
   "source": [
    "#    () → grouping    Example -> 1 without numbers\n",
    "\n",
    "Txt=\"Hello world\"\n",
    "pattern= r\"(Hello) (world)\"\n",
    "match=re.search(pattern, Txt)\n",
    "print(\"Full Match:\", match.group(0))\n",
    "print(\"First word:\", match.group(1))\n",
    "print(\"second word:\", match.group(2))"
   ]
  },
  {
   "cell_type": "code",
   "execution_count": 5,
   "id": "a48be0cc",
   "metadata": {},
   "outputs": [
    {
     "name": "stdout",
     "output_type": "stream",
     "text": [
      "Full Date: 05-08-2025\n",
      "Day: 05\n",
      "Month: 08\n",
      "Year: 2025\n"
     ]
    }
   ],
   "source": [
    "#  Example -> 2 with numbers\n",
    "\n",
    "date = \"Today is 05-08-2025\"\n",
    "\n",
    "pattern = r\"(\\d{2})-(\\d{2})-(\\d{4})\"\n",
    "match=re.search(pattern, date)\n",
    "\n",
    "print(\"Full Date:\", match.group(0))\n",
    "print(\"Day:\", match.group(1))\n",
    "print(\"Month:\", match.group(2))\n",
    "print(\"Year:\", match.group(3))"
   ]
  },
  {
   "cell_type": "markdown",
   "id": "6e0dbd0c",
   "metadata": {},
   "source": [
    "# Flags / Modifiers :"
   ]
  },
  {
   "cell_type": "code",
   "execution_count": null,
   "id": "3d5124a3",
   "metadata": {},
   "outputs": [
    {
     "name": "stdout",
     "output_type": "stream",
     "text": [
      "True\n"
     ]
    }
   ],
   "source": [
    "\n",
    "# 1.IGNORECASE (re.I) → Case-insensitive matching\n",
    "text=\"Hellow world\"\n",
    "pattern = r\"hello\"\n",
    "match=re.search(pattern, text, re.I)\n",
    "print(bool(match))"
   ]
  },
  {
   "cell_type": "code",
   "execution_count": 23,
   "id": "07fd251a",
   "metadata": {},
   "outputs": [
    {
     "name": "stdout",
     "output_type": "stream",
     "text": [
      "second\n"
     ]
    }
   ],
   "source": [
    "# 2.MULTILINE (re.M) → ^ and $ match each line\n",
    "text1=\"\"\"first line\n",
    "second line\"\"\"\n",
    "\n",
    "pattern = r\"^second\"\n",
    "match1 = re.search(pattern, text1, re.M)\n",
    "print(match1.group())"
   ]
  },
  {
   "cell_type": "code",
   "execution_count": 24,
   "id": "896301bf",
   "metadata": {},
   "outputs": [
    {
     "name": "stdout",
     "output_type": "stream",
     "text": [
      "hello\n",
      "world\n"
     ]
    }
   ],
   "source": [
    "# 3.DOTALL (re.S) → . matches newline too\n",
    "text2='''hello\n",
    "world'''\n",
    "\n",
    "pattern = r\"hello.world\"\n",
    "\n",
    "match2=re.search(pattern, text2, re.S)\n",
    "print(match2.group())"
   ]
  },
  {
   "cell_type": "code",
   "execution_count": 25,
   "id": "387814f2",
   "metadata": {},
   "outputs": [
    {
     "name": "stdout",
     "output_type": "stream",
     "text": [
      "('2025', '08', '05')\n"
     ]
    }
   ],
   "source": [
    "# 4. VERBOSE (re.X) → Ignore spaces & allow comments\n",
    "pattern=re.compile(\"\"\"\n",
    "    (\\d{4}) #year\n",
    "     -      #seperate\n",
    "    (\\d{2}) # month\n",
    "     -      #seperate\n",
    "    (\\d{2}) #day                                   \n",
    "\"\"\",re.X)\n",
    "\n",
    "match=pattern.search(\"2025-08-05\")\n",
    "print(match.groups())"
   ]
  },
  {
   "cell_type": "code",
   "execution_count": 26,
   "id": "5660e8a2",
   "metadata": {},
   "outputs": [
    {
     "name": "stdout",
     "output_type": "stream",
     "text": [
      "['Café']\n",
      "['Caf']\n"
     ]
    }
   ],
   "source": [
    "# 5. ASCII (re.A) → Restrict \\w, \\d, etc. to ASCII only\n",
    "text3=\"Café\"\n",
    "pattern=r\"\\w+\"\n",
    "\n",
    "print(re.findall(pattern, text3))\n",
    "print(re.findall(pattern, text3, re.A))"
   ]
  },
  {
   "cell_type": "markdown",
   "id": "b1e30b8d",
   "metadata": {},
   "source": [
    "# use cases :"
   ]
  },
  {
   "cell_type": "code",
   "execution_count": 27,
   "id": "e62df884",
   "metadata": {},
   "outputs": [
    {
     "name": "stdout",
     "output_type": "stream",
     "text": [
      "use@example.com -> valid\n",
      "hello.world@domain.co.in -> valid\n",
      "invalid-email@.com -> invalid\n"
     ]
    }
   ],
   "source": [
    "# Email validation \n",
    "def validate_email(email):\n",
    "    pattern = r\"[a-zA-Z0-9._%+-]+@[a-zA-Z0-9.-]+\\.[a-zA-Z]{2,}$\"\n",
    "    return bool(re.match(pattern,email))\n",
    "emails =[\"use@example.com\", \"hello.world@domain.co.in\", \"invalid-email@.com\"]\n",
    "for e in emails:\n",
    "    print(e, \"->\", \"valid\" if validate_email(e) else \"invalid\")"
   ]
  },
  {
   "cell_type": "code",
   "execution_count": null,
   "id": "5c752c12",
   "metadata": {},
   "outputs": [
    {
     "name": "stdout",
     "output_type": "stream",
     "text": [
      "Hello Welcome to Python\n"
     ]
    }
   ],
   "source": [
    "# cleaning unwanted characters from string\n",
    "\n",
    "\n",
    "text4=\"Hello!!! 123, Welcome_to@Python.\"\n",
    "\n",
    "# Replace anything that's not a letter with a space\n",
    "cleaning_txt=re.sub(r\"[^a-zA-Z\\s]\",\" \",text4)\n",
    "\n",
    "# Collapse multiple spaces into one \n",
    "cleaning_txt=re.sub(r\"\\s+\",\" \",cleaning_txt).strip()\n",
    "\n",
    "print(cleaning_txt)"
   ]
  },
  {
   "cell_type": "code",
   "execution_count": null,
   "id": "3ef1b2bb",
   "metadata": {},
   "outputs": [],
   "source": []
  }
 ],
 "metadata": {
  "kernelspec": {
   "display_name": "base",
   "language": "python",
   "name": "python3"
  },
  "language_info": {
   "codemirror_mode": {
    "name": "ipython",
    "version": 3
   },
   "file_extension": ".py",
   "mimetype": "text/x-python",
   "name": "python",
   "nbconvert_exporter": "python",
   "pygments_lexer": "ipython3",
   "version": "3.13.5"
  }
 },
 "nbformat": 4,
 "nbformat_minor": 5
}
