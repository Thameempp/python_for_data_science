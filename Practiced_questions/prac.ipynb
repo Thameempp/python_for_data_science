{
 "cells": [
  {
   "cell_type": "code",
   "id": "initial_id",
   "metadata": {
    "collapsed": true,
    "ExecuteTime": {
     "end_time": "2025-08-25T10:28:57.280110Z",
     "start_time": "2025-08-25T10:28:40.355147Z"
    }
   },
   "source": [
    "# triangle area function\n",
    "print(int(input(\"Base: \")))\n",
    "print(int(input(\"Height: \")))\n",
    "def triangle_area():\n",
    "    return 1/2 * b * h\n",
    "\n",
    "print(triangle_area())\n"
   ],
   "outputs": [
    {
     "name": "stdout",
     "output_type": "stream",
     "text": [
      "7\n",
      "4\n",
      "14.0\n"
     ]
    }
   ],
   "execution_count": 14
  },
  {
   "metadata": {
    "ExecuteTime": {
     "end_time": "2025-08-25T10:27:43.244653Z",
     "start_time": "2025-08-25T10:27:43.239352Z"
    }
   },
   "cell_type": "code",
   "source": [
    "def triangle_area(b,h):\n",
    "    return 1/2 * b * h\n",
    "\n",
    "print(triangle_area(8,4))"
   ],
   "id": "5f4dc2e9732f251e",
   "outputs": [
    {
     "name": "stdout",
     "output_type": "stream",
     "text": [
      "16.0\n"
     ]
    }
   ],
   "execution_count": 13
  },
  {
   "metadata": {
    "ExecuteTime": {
     "end_time": "2025-08-25T10:31:16.355056Z",
     "start_time": "2025-08-25T10:31:16.348936Z"
    }
   },
   "cell_type": "code",
   "source": [
    "triangle_area = lambda b,h:1/2 * b * h\n",
    "print(triangle_area(8,4))"
   ],
   "id": "59a3f6a3ceec8cfb",
   "outputs": [
    {
     "name": "stdout",
     "output_type": "stream",
     "text": [
      "16.0\n"
     ]
    }
   ],
   "execution_count": 17
  },
  {
   "metadata": {
    "ExecuteTime": {
     "end_time": "2025-08-25T17:31:55.533818Z",
     "start_time": "2025-08-25T17:31:55.514071Z"
    }
   },
   "cell_type": "code",
   "source": [
    "#  Trigonometry function\n",
    "trig_functions = ['sin','cos','tan']\n",
    "trig_values = ['pi/2', 'pi/4', 'pi/6']\n",
    "\n",
    "\n",
    "for func in trig_functions:\n",
    "    for value in trig_values:\n",
    "        if trig_values[0] :\n",
    "            a = trig_functions[0] = 1\n",
    "            b = trig_functions[1] = 1/2**1/2\n",
    "            c = trig_functions[2] = 1\n",
    "\n",
    "        print(f\"{func}({value}) :{answer}  \")\n",
    "\n"
   ],
   "id": "9ceb4195a8edff8b",
   "outputs": [
    {
     "name": "stdout",
     "output_type": "stream",
     "text": [
      "sin(pi/2) :1  \n",
      "sin(pi/4) :1  \n",
      "sin(pi/6) :1  \n",
      "0.25(pi/2) :1  \n",
      "0.25(pi/4) :1  \n",
      "0.25(pi/6) :1  \n",
      "1(pi/2) :1  \n",
      "1(pi/4) :1  \n",
      "1(pi/6) :1  \n"
     ]
    }
   ],
   "execution_count": 37
  },
  {
   "metadata": {
    "ExecuteTime": {
     "end_time": "2025-08-25T11:12:44.598600Z",
     "start_time": "2025-08-25T11:12:44.588296Z"
    }
   },
   "cell_type": "code",
   "source": [
    "trig_functions = ['sin', 'cos', 'tan']\n",
    "trig_values = ['pi/2', 'pi/4', 'pi/6']\n",
    "\n",
    "# Hardcoded values based on standard trigonometric ratios\n",
    "values = {\n",
    "    'pi/2': {'sin': 1, 'cos': 0, 'tan': 'undefined'},\n",
    "    'pi/4': {'sin': '1/√2', 'cos': '1/√2', 'tan': 1},\n",
    "    'pi/6': {'sin': '1/2', 'cos': '√3/2', 'tan': '1/√3'}\n",
    "}\n",
    "\n",
    "for func in trig_functions:\n",
    "    for angle in trig_values:\n",
    "        print(f\"{func}({angle}) = {values[angle][func]}\")"
   ],
   "id": "3ba345c7a055d1c8",
   "outputs": [
    {
     "name": "stdout",
     "output_type": "stream",
     "text": [
      "sin(pi/2) = 1\n",
      "sin(pi/4) = 1/√2\n",
      "sin(pi/6) = 1/2\n",
      "cos(pi/2) = 0\n",
      "cos(pi/4) = 1/√2\n",
      "cos(pi/6) = √3/2\n",
      "tan(pi/2) = undefined\n",
      "tan(pi/4) = 1\n",
      "tan(pi/6) = 1/√3\n"
     ]
    }
   ],
   "execution_count": 36
  }
 ],
 "metadata": {
  "kernelspec": {
   "display_name": "Python 3",
   "language": "python",
   "name": "python3"
  },
  "language_info": {
   "codemirror_mode": {
    "name": "ipython",
    "version": 2
   },
   "file_extension": ".py",
   "mimetype": "text/x-python",
   "name": "python",
   "nbconvert_exporter": "python",
   "pygments_lexer": "ipython2",
   "version": "2.7.6"
  }
 },
 "nbformat": 4,
 "nbformat_minor": 5
}
